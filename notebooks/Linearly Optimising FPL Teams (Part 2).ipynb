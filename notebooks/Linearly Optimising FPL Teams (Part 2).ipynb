{
 "cells": [
  {
   "cell_type": "markdown",
   "metadata": {},
   "source": [
    "# Recap:\n",
    "\n",
    "In my last post -- over a year ago -- I showed how to use linear programming to pick a simplified FPL team.\n",
    "\n",
    "The code is below:"
   ]
  },
  {
   "cell_type": "code",
   "execution_count": 1,
   "metadata": {},
   "outputs": [],
   "source": [
    "import pulp\n",
    "import numpy as np\n",
    "\n",
    "def select_team(expected_scores, prices, positions, clubs, total_budget=100, sub_factor=0.2):\n",
    "    num_players = len(expected_scores)\n",
    "    model = pulp.LpProblem(\"Constrained value maximisation\", pulp.LpMaximize)\n",
    "    decisions = [\n",
    "        pulp.LpVariable(\"x{}\".format(i), lowBound=0, upBound=1, cat='Integer')\n",
    "        for i in range(num_players)\n",
    "    ]\n",
    "    captain_decisions = [\n",
    "        pulp.LpVariable(\"y{}\".format(i), lowBound=0, upBound=1, cat='Integer')\n",
    "        for i in range(num_players)\n",
    "    ]\n",
    "    sub_decisions = [\n",
    "        pulp.LpVariable(\"z{}\".format(i), lowBound=0, upBound=1, cat='Integer')\n",
    "        for i in range(num_players)\n",
    "    ]\n",
    "\n",
    "\n",
    "    # objective function:\n",
    "    model += sum((captain_decisions[i] + decisions[i] + sub_decisions[i]*sub_factor) * expected_scores[i]\n",
    "                 for i in range(num_players)), \"Objective\"\n",
    "\n",
    "    # cost constraint\n",
    "    model += sum((decisions[i] + sub_decisions[i]) * prices[i] for i in range(num_players)) <= total_budget  # total cost\n",
    "\n",
    "    # position constraints\n",
    "    # 1 starting goalkeeper\n",
    "    model += sum(decisions[i] for i in range(num_players) if positions[i] == 1) == 1\n",
    "    # 2 total goalkeepers\n",
    "    model += sum(decisions[i] + sub_decisions[i] for i in range(num_players) if positions[i] == 1) == 2\n",
    "\n",
    "    # 3-5 starting defenders\n",
    "    model += sum(decisions[i] for i in range(num_players) if positions[i] == 2) >= 3\n",
    "    model += sum(decisions[i] for i in range(num_players) if positions[i] == 2) <= 5\n",
    "    # 5 total defenders\n",
    "    model += sum(decisions[i] + sub_decisions[i] for i in range(num_players) if positions[i] == 2) == 5\n",
    "\n",
    "    # 3-5 starting midfielders\n",
    "    model += sum(decisions[i] for i in range(num_players) if positions[i] == 3) >= 3\n",
    "    model += sum(decisions[i] for i in range(num_players) if positions[i] == 3) <= 5\n",
    "    # 5 total midfielders\n",
    "    model += sum(decisions[i] + sub_decisions[i] for i in range(num_players) if positions[i] == 3) == 5\n",
    "\n",
    "    # 1-3 starting attackers\n",
    "    model += sum(decisions[i] for i in range(num_players) if positions[i] == 4) >= 1\n",
    "    model += sum(decisions[i] for i in range(num_players) if positions[i] == 4) <= 3\n",
    "    # 3 total attackers\n",
    "    model += sum(decisions[i] + sub_decisions[i] for i in range(num_players) if positions[i] == 4) == 3\n",
    "\n",
    "    # club constraint\n",
    "    for club_id in np.unique(clubs):\n",
    "        model += sum(decisions[i] + sub_decisions[i] for i in range(num_players) if clubs[i] == club_id) <= 3  # max 3 players\n",
    "\n",
    "    model += sum(decisions) == 11  # total team size\n",
    "    model += sum(captain_decisions) == 1  # 1 captain\n",
    "    \n",
    "    for i in range(num_players):  \n",
    "        model += (decisions[i] - captain_decisions[i]) >= 0  # captain must also be on team\n",
    "        model += (decisions[i] + sub_decisions[i]) <= 1  # subs must not be on team\n",
    "\n",
    "    model.solve()\n",
    "    print(\"Total expected score = {}\".format(model.objective.value()))\n",
    "\n",
    "    return decisions, captain_decisions, sub_decisions"
   ]
  },
  {
   "cell_type": "markdown",
   "metadata": {},
   "source": [
    "Since the 2020/21 season has just begun, let's see what team we pick for this season:"
   ]
  },
  {
   "cell_type": "code",
   "execution_count": 2,
   "metadata": {},
   "outputs": [
    {
     "name": "stderr",
     "output_type": "stream",
     "text": [
      "/home/joe/forecasting-fantasy-football/.env/lib/python3.6/site-packages/pulp/pulp.py:1195: UserWarning: Spaces are not permitted in the name. Converted to '_'\n",
      "  warnings.warn(\"Spaces are not permitted in the name. Converted to '_'\")\n"
     ]
    },
    {
     "name": "stdout",
     "output_type": "stream",
     "text": [
      "Total expected score = 61.82105263157895\n",
      "\n",
      "First Team:\n",
      "Ashley Westwood\n",
      "Nick Pope\n",
      "Virgil van Dijk\n",
      "Andrew Robertson\n",
      "Trent Alexander-Arnold\n",
      "Kevin De Bruyne*\n",
      "Anthony Martial\n",
      "John Lundstram\n",
      "Danny Ings\n",
      "Matt Doherty\n",
      "Raúl Jiménez\n",
      "\n",
      "Subs:\n",
      "Dale Stephens\n",
      "Mathew Ryan\n",
      "John Egan\n",
      "Mark Noble\n"
     ]
    }
   ],
   "source": [
    "import pandas as pd\n",
    "df = pd.read_csv(\n",
    "    \"https://raw.githubusercontent.com/vaastav/Fantasy-Premier-League/master/data/2020-21/players_raw.csv\"\n",
    ")\n",
    "expected_scores = df[\"total_points\"] / 38  # penalises players who played fewer games\n",
    "prices = df[\"now_cost\"] / 10\n",
    "positions = df[\"element_type\"]\n",
    "clubs = df[\"team_code\"]\n",
    "# so we can read the results\n",
    "names = df[\"first_name\"] + \" \" + df[\"second_name\"]\n",
    "\n",
    "decisions, captain_decisions, sub_decisions = select_team(expected_scores.values, prices.values, positions.values, clubs.values)\n",
    "player_indices = []\n",
    "\n",
    "print()\n",
    "print(\"First Team:\")\n",
    "for i in range(len(decisions)):\n",
    "    if decisions[i].value() == 1:\n",
    "        print(\"{}{}\".format(names[i], \"*\" if captain_decisions[i].value() == 1 else \"\"))\n",
    "        player_indices.append(i)\n",
    "print()\n",
    "print(\"Subs:\")\n",
    "for i in range(len(sub_decisions)):\n",
    "    if sub_decisions[i].value() == 1:\n",
    "        print(names[i])\n",
    "        player_indices.append(i)\n"
   ]
  },
  {
   "cell_type": "markdown",
   "metadata": {},
   "source": [
    "The above model selects the optimal starters, subs and captain from a set of players with perfect score forecasts and using a simplified treatment of substitutions.\n",
    "\n",
    "This is a decent model of the problem of picking an FPL team from scratch at the beginning of a season. In reality, we have to solve the much more complex, *dynamic* problem of picking a team and planning transfers.\n",
    "\n",
    "Let's set up a simplified task. We already have a selected team and would like to know which transfers will maximise next week's score. We can represent our selected team in the same way as before, as a vector of binary values.\n",
    "\n",
    "Our decisions will be which players to transfer in and which to transfer out. I'm going to revert to a starting-eleven-only model for now to make this more clear."
   ]
  },
  {
   "cell_type": "code",
   "execution_count": 3,
   "metadata": {},
   "outputs": [],
   "source": [
    "num_players = 100\n",
    "current_team_indices = np.random.randint(0, num_players, size=11)  # placeholder\n",
    "clubs = np.random.randint(0, 20, size=100)  # placeholder\n",
    "positions = np.random.randint(1, 5, size=100)  # placeholder\n",
    "expected_scores = np.random.uniform(0, 10, size=100)  # placeholder\n",
    "\n",
    "#current_sub_indices = np.random.randint(0, num_players, size=4)  # placeholder\n",
    "#current_captain_indices = current_team_indices[0]  # placeholder\n",
    "\n",
    "# convert to binary representation\n",
    "current_team_decisions = np.zeros(num_players) \n",
    "current_team_decisions[current_team_indices] = 1\n",
    "# convert to binary representation\n",
    "#current_sub_decisions = np.zeros(num_players) \n",
    "#current_sub_decisions[current_sub_indices] = 1\n",
    "# convert to binary representation\n",
    "#current_captain_decisions = np.zeros(num_players) \n",
    "#current_captain_decisions[current_captain_indices] = 1\n",
    "\n",
    "model = pulp.LpProblem(\"Transfer optimisation\", pulp.LpMaximize)\n",
    "\n",
    "transfer_in_decisions = [\n",
    "    pulp.LpVariable(\"x{}\".format(i), lowBound=0, upBound=1, cat='Integer')\n",
    "    for i in range(num_players)\n",
    "]\n",
    "transfer_out_decisions = [\n",
    "    pulp.LpVariable(\"y{}\".format(i), lowBound=0, upBound=1, cat='Integer')\n",
    "    for i in range(num_players)\n",
    "]\n",
    "\n",
    "next_week_team = [\n",
    "    current_team_decisions[i] + transfer_in_decisions[i] - transfer_out_decisions[i]\n",
    "    for i in range(num_players)\n",
    "]"
   ]
  },
  {
   "cell_type": "markdown",
   "metadata": {},
   "source": [
    "This takes each player and adds or removes him from the team depending on the transfer decisions. This requires a bunch of new constraints.\n",
    "\n",
    "* Only players in the team can be transferred out\n",
    "* Only players not in the team can be transferred in\n",
    "* A player cannot be transferred in and out at the same time\n",
    "* Players should only be transferred with others in the same position\n",
    "\n",
    "We can program the first two in implicitly by constraining the `next_week_team` variables to zero or one. For now, instead of explicitly programming the last constraint I'm just going to have `next_week_team` satisfy the formation constraints from our earlier model. Once we include substitutes, this will automatically enforce the last rule."
   ]
  },
  {
   "cell_type": "code",
   "execution_count": 4,
   "metadata": {},
   "outputs": [],
   "source": [
    "for i in range(num_players):\n",
    "    model += next_week_team[i] <= 1\n",
    "    model += next_week_team[i] >= 0\n",
    "    model += (transfer_in_decisions[i] + transfer_out_decisions[i]) <= 1\n",
    "    \n",
    "# formation constraints\n",
    "# 1 starting goalkeeper\n",
    "model += sum(next_week_team[i] for i in range(num_players) if positions[i] == 1) == 1\n",
    "\n",
    "# 3-5 starting defenders\n",
    "model += sum(next_week_team[i] for i in range(num_players) if positions[i] == 2) >= 3\n",
    "model += sum(next_week_team[i] for i in range(num_players) if positions[i] == 2) <= 5\n",
    "\n",
    "# 3-5 starting midfielders\n",
    "model += sum(next_week_team[i] for i in range(num_players) if positions[i] == 3) >= 3\n",
    "model += sum(next_week_team[i] for i in range(num_players) if positions[i] == 3) <= 5\n",
    "\n",
    "# 1-3 starting attackers\n",
    "model += sum(next_week_team[i] for i in range(num_players) if positions[i] == 4) >= 1\n",
    "model += sum(next_week_team[i] for i in range(num_players) if positions[i] == 4) <= 3\n",
    "\n",
    "# club constraint\n",
    "for club_id in np.unique(clubs):\n",
    "    model += sum(next_week_team[i] for i in range(num_players) if clubs[i] == club_id) <= 3  # max 3 players\n",
    "\n",
    "model += sum(next_week_team) == 11  # total team size\n"
   ]
  },
  {
   "cell_type": "markdown",
   "metadata": {},
   "source": [
    "We also need to deal with prices. We will make the simplifying assumption that prices do not change over time."
   ]
  },
  {
   "cell_type": "code",
   "execution_count": 5,
   "metadata": {},
   "outputs": [],
   "source": [
    "# placeholder budget and prices\n",
    "budget_now = 0\n",
    "buy_prices = sell_prices = np.random.uniform(4, 12, size=100)\n",
    "\n",
    "transfer_in_cost = sum(transfer_in_decisions[i] * buy_prices[i] for i in range(num_players))\n",
    "transfer_out_cost = sum(transfer_in_decisions[i] * sell_prices[i] for i in range(num_players))\n",
    "\n",
    "budget_next_week = budget_now + transfer_out_cost - transfer_in_cost\n",
    "model += budget_next_week >= 0"
   ]
  },
  {
   "cell_type": "markdown",
   "metadata": {},
   "source": [
    "Finally the objective"
   ]
  },
  {
   "cell_type": "code",
   "execution_count": 6,
   "metadata": {},
   "outputs": [],
   "source": [
    "# objective function:\n",
    "model += sum((next_week_team[i]) * expected_scores[i]\n",
    "             for i in range(num_players)), \"Objective\""
   ]
  },
  {
   "cell_type": "code",
   "execution_count": 7,
   "metadata": {},
   "outputs": [
    {
     "data": {
      "text/plain": [
       "1"
      ]
     },
     "execution_count": 7,
     "metadata": {},
     "output_type": "execute_result"
    }
   ],
   "source": [
    "model.solve()"
   ]
  },
  {
   "cell_type": "code",
   "execution_count": 8,
   "metadata": {},
   "outputs": [
    {
     "name": "stdout",
     "output_type": "stream",
     "text": [
      "Transferred out: 13 5.288295423599561 3.3894008077474136\n",
      "Transferred in: 21 9.070994766604375 9.37050063216644\n",
      "Transferred in: 24 7.575464205312795 9.215308010669695\n",
      "Transferred out: 26 6.721648486251118 3.8509953125096166\n",
      "Transferred out: 29 6.742870350049889 5.270889929532872\n",
      "Transferred out: 35 4.103757608625865 1.0984705677248163\n",
      "Transferred out: 37 11.962272814426175 6.680666697728531\n",
      "Transferred out: 38 11.935192882229016 8.812572612903082\n",
      "Transferred in: 39 4.35711720422148 9.418529086420333\n",
      "Transferred in: 50 4.660757831063417 9.35311785869988\n",
      "Transferred in: 55 5.711563321499944 8.54701705354162\n",
      "Transferred out: 57 8.783152904137925 1.032739407088693\n",
      "Transferred out: 60 11.04216159716166 5.030178731633318\n",
      "Transferred in: 61 4.425480373533979 8.980715758268705\n",
      "Transferred in: 70 9.398762313351092 8.311564786779657\n",
      "Transferred out: 76 6.4049392439866315 2.1320162654733146\n",
      "Transferred in: 79 10.197071912977469 9.27892335135661\n",
      "Transferred out: 92 9.530946271360687 3.683862109388399\n",
      "Transferred in: 93 9.108860413519636 8.63646096983609\n",
      "Transferred in: 95 8.992454182152425 9.609908689183467\n",
      "Transferred in: 98 10.8003901312448 9.299129917125185\n",
      "Transferred out: 99 7.203391158529981 1.3182269693120041\n"
     ]
    }
   ],
   "source": [
    "for i in range(num_players):\n",
    "    if transfer_in_decisions[i].value() == 1:\n",
    "        print(\"Transferred in: {} {} {}\".format(i, buy_prices[i], expected_scores[i]))\n",
    "    if transfer_out_decisions[i].value() == 1:\n",
    "        print(\"Transferred out: {} {} {}\".format(i, sell_prices[i], expected_scores[i]))"
   ]
  },
  {
   "cell_type": "markdown",
   "metadata": {},
   "source": [
    "We forgot add a penalty for making transfers! This is simple, but requires free and non-free transfers to be treated separately to maintain linearity.\n",
    "\n",
    "Let's wrap this all up into a class `TransferOptimiser`. I've added substitues back in here, and allowed buy and sell prices to be different."
   ]
  },
  {
   "cell_type": "code",
   "execution_count": 9,
   "metadata": {},
   "outputs": [],
   "source": [
    "import sys\n",
    "sys.path.append(\"..\")\n",
    "from fpl_opt.transfers import TransferOptimiser"
   ]
  },
  {
   "cell_type": "code",
   "execution_count": 10,
   "metadata": {},
   "outputs": [],
   "source": [
    "num_players = 100\n",
    "current_squad_indices = np.random.randint(0, num_players, size=15)\n",
    "clubs = np.random.randint(0, 20, size=100)\n",
    "positions = np.random.randint(1, 5, size=100)\n",
    "expected_scores = np.random.uniform(0, 10, size=100)\n",
    "current_squad_decisions = np.zeros(num_players) \n",
    "current_squad_decisions[current_team_indices] = 1\n",
    "# placeholder budget and prices\n",
    "budget_now = 0\n",
    "buy_prices = sell_prices = np.random.uniform(4, 12, size=100)\n",
    "\n",
    "opt = TransferOptimiser(expected_scores, buy_prices, sell_prices, positions, clubs)"
   ]
  },
  {
   "cell_type": "code",
   "execution_count": 11,
   "metadata": {},
   "outputs": [
    {
     "name": "stdout",
     "output_type": "stream",
     "text": [
      "Solver status: 1\n"
     ]
    }
   ],
   "source": [
    "transfer_in_decisions, transfer_out_decisions, starters, sub_decisions, captain_decisions = opt.solve(current_squad_indices, budget_now, sub_factor=0.2)"
   ]
  },
  {
   "cell_type": "code",
   "execution_count": 12,
   "metadata": {},
   "outputs": [
    {
     "name": "stdout",
     "output_type": "stream",
     "text": [
      "Transferred out: 4 5.523518914053757 5.8811122126838615\n",
      "Transferred in: 11 9.68275322440353 8.724190592378312\n",
      "Transferred out: 13 9.38029311134498 5.528761909687386\n",
      "Transferred in: 19 7.601695371029728 7.685260823699736\n",
      "Transferred out: 21 5.061788918455829 3.3968564864217776\n",
      "Transferred out: 22 11.806301982605639 2.8725605956680242\n",
      "Transferred out: 28 7.942472393428144 6.4075948640517035\n",
      "Transferred in: 43 5.315761752333296 8.9917176840911\n",
      "Transferred out: 44 10.326213682210348 1.9597534343030376\n",
      "Transferred in: 63 5.645606754396033 8.54310901245048\n",
      "Transferred in: 64 4.745211492536894 9.039615643303172\n",
      "Transferred in: 67 6.854766060238449 9.68020878348359\n",
      "Transferred in: 77 8.239379570498398 9.901310186670342\n",
      "Transferred in: 83 4.245940106874752 9.208222133026297\n",
      "Transferred out: 84 4.799905574464629 1.8295237733961356\n"
     ]
    }
   ],
   "source": [
    "for i in range(num_players):\n",
    "    if transfer_in_decisions[i].value() == 1:\n",
    "        print(\"Transferred in: {} {} {}\".format(i, buy_prices[i], expected_scores[i]))\n",
    "    if transfer_out_decisions[i].value() == 1:\n",
    "        print(\"Transferred out: {} {} {}\".format(i, sell_prices[i], expected_scores[i]))"
   ]
  },
  {
   "cell_type": "markdown",
   "metadata": {},
   "source": [
    "Let's apply this to my current team, again using a very simple player score forecast."
   ]
  },
  {
   "cell_type": "code",
   "execution_count": 61,
   "metadata": {},
   "outputs": [
    {
     "name": "stdout",
     "output_type": "stream",
     "text": [
      "Total expected score = 61.82105263157895\n",
      "\n",
      "First Team:\n",
      "Ashley Westwood\n",
      "Nick Pope\n",
      "Virgil van Dijk\n",
      "Andrew Robertson\n",
      "Trent Alexander-Arnold\n",
      "Kevin De Bruyne*\n",
      "Anthony Martial\n",
      "John Lundstram\n",
      "Danny Ings\n",
      "Matt Doherty\n",
      "Raúl Jiménez\n",
      "\n",
      "Subs:\n",
      "Dale Stephens\n",
      "Mathew Ryan\n",
      "John Egan\n",
      "Mark Noble\n"
     ]
    }
   ],
   "source": [
    "import pandas as pd\n",
    "df = pd.read_csv(\n",
    "    \"https://raw.githubusercontent.com/vaastav/Fantasy-Premier-League/master/data/2020-21/players_raw.csv\"\n",
    ")\n",
    "expected_scores = df[\"total_points\"] / 38  # penalises players who played fewer games\n",
    "prices = df[\"now_cost\"] / 10\n",
    "positions = df[\"element_type\"]\n",
    "clubs = df[\"team_code\"]\n",
    "# so we can read the results\n",
    "names = df[\"first_name\"] + \" \" + df[\"second_name\"]\n",
    "\n",
    "decisions, captain_decisions, sub_decisions = select_team(expected_scores, prices.values, positions.values, clubs.values)\n",
    "player_indices = []\n",
    "\n",
    "print()\n",
    "print(\"First Team:\")\n",
    "for i in range(len(decisions)):\n",
    "    if decisions[i].value() == 1:\n",
    "        print(\"{}{}\".format(names[i], \"*\" if captain_decisions[i].value() == 1 else \"\"))\n",
    "        player_indices.append(i)\n",
    "print()\n",
    "print(\"Subs:\")\n",
    "for i in range(len(sub_decisions)):\n",
    "    if sub_decisions[i].value() == 1:\n",
    "        print(names[i])\n",
    "        player_indices.append(i)"
   ]
  },
  {
   "cell_type": "code",
   "execution_count": 62,
   "metadata": {},
   "outputs": [],
   "source": [
    "# next week score forecast: start with points-per-game\n",
    "score_forecast = df[\"total_points\"] / 38\n",
    "# let's make up a nonsense forecast to add some dynamics -- maybe we expect some teams to do well:\n",
    "score_forecast.loc[df[\"team\"].isin(range(1,21,2))] += 1\n",
    "# and some to do badly\n",
    "score_forecast.loc[df[\"team\"].isin(range(2,22,2))] -= 1\n",
    "score_forecast = score_forecast.fillna(0)"
   ]
  },
  {
   "cell_type": "code",
   "execution_count": 63,
   "metadata": {},
   "outputs": [
    {
     "name": "stdout",
     "output_type": "stream",
     "text": [
      "Solver status: 1\n"
     ]
    }
   ],
   "source": [
    "opt = TransferOptimiser(score_forecast.values, prices.values, prices.values, positions.values, clubs.values)\n",
    "transfer_in_decisions, transfer_out_decisions, starters, sub_decisions, captain_decisions = opt.solve(player_indices, budget_now=0, sub_factor=0.2)"
   ]
  },
  {
   "cell_type": "code",
   "execution_count": 66,
   "metadata": {},
   "outputs": [
    {
     "name": "stdout",
     "output_type": "stream",
     "text": [
      "Transferred in: Richarlison de Andrade 8.0 5.342105263157895\n",
      "Transferred out: Raúl Jiménez 8.5 4.105263157894737\n"
     ]
    }
   ],
   "source": [
    "for i in range(len(transfer_in_decisions)):\n",
    "    if transfer_in_decisions[i].value() == 1:\n",
    "        print(\"Transferred in: {} {} {}\".format(names[i], prices[i], score_forecast[i]))\n",
    "    if transfer_out_decisions[i].value() == 1:\n",
    "        print(\"Transferred out: {} {} {}\".format(names[i], prices[i], score_forecast[i]))"
   ]
  },
  {
   "cell_type": "code",
   "execution_count": 67,
   "metadata": {},
   "outputs": [
    {
     "name": "stdout",
     "output_type": "stream",
     "text": [
      "\n",
      "First Team:\n",
      "Mathew Ryan\n",
      "Richarlison de Andrade\n",
      "Virgil van Dijk\n",
      "Andrew Robertson\n",
      "Trent Alexander-Arnold*\n",
      "Kevin De Bruyne\n",
      "Anthony Martial\n",
      "John Egan\n",
      "John Lundstram\n",
      "Matt Doherty\n",
      "Mark Noble\n",
      "\n",
      "Subs:\n",
      "Dale Stephens\n",
      "Ashley Westwood\n",
      "Nick Pope\n",
      "Danny Ings\n"
     ]
    }
   ],
   "source": [
    "player_indices = []\n",
    "print()\n",
    "print(\"First Team:\")\n",
    "for i in range(len(starters)):\n",
    "    if starters[i].value() == 1:\n",
    "        print(\"{}{}\".format(names[i], \"*\" if captain_decisions[i].value() == 1 else \"\"))\n",
    "        player_indices.append(i)\n",
    "print()\n",
    "print(\"Subs:\")\n",
    "for i in range(len(sub_decisions)):\n",
    "    if sub_decisions[i].value() == 1:\n",
    "        print(names[i])\n",
    "        player_indices.append(i)"
   ]
  },
  {
   "cell_type": "code",
   "execution_count": null,
   "metadata": {},
   "outputs": [],
   "source": []
  }
 ],
 "metadata": {
  "kernelspec": {
   "display_name": "Python 3",
   "language": "python",
   "name": "python3"
  },
  "language_info": {
   "codemirror_mode": {
    "name": "ipython",
    "version": 3
   },
   "file_extension": ".py",
   "mimetype": "text/x-python",
   "name": "python",
   "nbconvert_exporter": "python",
   "pygments_lexer": "ipython3",
   "version": "3.6.9"
  }
 },
 "nbformat": 4,
 "nbformat_minor": 2
}
