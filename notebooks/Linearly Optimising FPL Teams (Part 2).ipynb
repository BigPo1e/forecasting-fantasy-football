{
 "cells": [
  {
   "cell_type": "markdown",
   "metadata": {},
   "source": [
    "# Recap:\n",
    "\n",
    "In my last post -- over a year ago -- I showed how to use linear programming to pick a simplified FPL team.\n",
    "\n",
    "The code is below:"
   ]
  },
  {
   "cell_type": "code",
   "execution_count": 1,
   "metadata": {},
   "outputs": [],
   "source": [
    "import pulp\n",
    "import numpy as np\n",
    "\n",
    "def select_team(expected_scores, prices, positions, clubs, total_budget=100, sub_factor=0.2):\n",
    "    num_players = len(expected_scores)\n",
    "    model = pulp.LpProblem(\"Constrained value maximisation\", pulp.LpMaximize)\n",
    "    decisions = [\n",
    "        pulp.LpVariable(\"x{}\".format(i), lowBound=0, upBound=1, cat='Integer')\n",
    "        for i in range(num_players)\n",
    "    ]\n",
    "    captain_decisions = [\n",
    "        pulp.LpVariable(\"y{}\".format(i), lowBound=0, upBound=1, cat='Integer')\n",
    "        for i in range(num_players)\n",
    "    ]\n",
    "    sub_decisions = [\n",
    "        pulp.LpVariable(\"z{}\".format(i), lowBound=0, upBound=1, cat='Integer')\n",
    "        for i in range(num_players)\n",
    "    ]\n",
    "\n",
    "\n",
    "    # objective function:\n",
    "    model += sum((captain_decisions[i] + decisions[i] + sub_decisions[i]*sub_factor) * expected_scores[i]\n",
    "                 for i in range(num_players)), \"Objective\"\n",
    "\n",
    "    # cost constraint\n",
    "    model += sum((decisions[i] + sub_decisions[i]) * prices[i] for i in range(num_players)) <= total_budget  # total cost\n",
    "\n",
    "    # position constraints\n",
    "    # 1 starting goalkeeper\n",
    "    model += sum(decisions[i] for i in range(num_players) if positions[i] == 1) == 1\n",
    "    # 2 total goalkeepers\n",
    "    model += sum(decisions[i] + sub_decisions[i] for i in range(num_players) if positions[i] == 1) == 2\n",
    "\n",
    "    # 3-5 starting defenders\n",
    "    model += sum(decisions[i] for i in range(num_players) if positions[i] == 2) >= 3\n",
    "    model += sum(decisions[i] for i in range(num_players) if positions[i] == 2) <= 5\n",
    "    # 5 total defenders\n",
    "    model += sum(decisions[i] + sub_decisions[i] for i in range(num_players) if positions[i] == 2) == 5\n",
    "\n",
    "    # 3-5 starting midfielders\n",
    "    model += sum(decisions[i] for i in range(num_players) if positions[i] == 3) >= 3\n",
    "    model += sum(decisions[i] for i in range(num_players) if positions[i] == 3) <= 5\n",
    "    # 5 total midfielders\n",
    "    model += sum(decisions[i] + sub_decisions[i] for i in range(num_players) if positions[i] == 3) == 5\n",
    "\n",
    "    # 1-3 starting attackers\n",
    "    model += sum(decisions[i] for i in range(num_players) if positions[i] == 4) >= 1\n",
    "    model += sum(decisions[i] for i in range(num_players) if positions[i] == 4) <= 3\n",
    "    # 3 total attackers\n",
    "    model += sum(decisions[i] + sub_decisions[i] for i in range(num_players) if positions[i] == 4) == 3\n",
    "\n",
    "    # club constraint\n",
    "    for club_id in np.unique(clubs):\n",
    "        model += sum(decisions[i] + sub_decisions[i] for i in range(num_players) if clubs[i] == club_id) <= 3  # max 3 players\n",
    "\n",
    "    model += sum(decisions) == 11  # total team size\n",
    "    model += sum(captain_decisions) == 1  # 1 captain\n",
    "    \n",
    "    for i in range(num_players):  \n",
    "        model += (decisions[i] - captain_decisions[i]) >= 0  # captain must also be on team\n",
    "        model += (decisions[i] + sub_decisions[i]) <= 1  # subs must not be on team\n",
    "\n",
    "    model.solve()\n",
    "    print(\"Total expected score = {}\".format(model.objective.value()))\n",
    "\n",
    "    return decisions, captain_decisions, sub_decisions"
   ]
  },
  {
   "cell_type": "markdown",
   "metadata": {},
   "source": [
    "Since the 2020/21 season has just begun, let's see what team we pick for this season:"
   ]
  },
  {
   "cell_type": "code",
   "execution_count": 2,
   "metadata": {},
   "outputs": [
    {
     "name": "stderr",
     "output_type": "stream",
     "text": [
      "/home/joe/forecasting-fantasy-football/.env/lib/python3.6/site-packages/pulp/pulp.py:1195: UserWarning: Spaces are not permitted in the name. Converted to '_'\n",
      "  warnings.warn(\"Spaces are not permitted in the name. Converted to '_'\")\n"
     ]
    },
    {
     "name": "stdout",
     "output_type": "stream",
     "text": [
      "Total expected score = 61.82105263157895\n",
      "\n",
      "First Team:\n",
      "Ashley Westwood\n",
      "Nick Pope\n",
      "Virgil van Dijk\n",
      "Andrew Robertson\n",
      "Trent Alexander-Arnold\n",
      "Kevin De Bruyne*\n",
      "Anthony Martial\n",
      "John Lundstram\n",
      "Danny Ings\n",
      "Matt Doherty\n",
      "Raúl Jiménez\n",
      "\n",
      "Subs:\n",
      "Dale Stephens\n",
      "Mathew Ryan\n",
      "John Egan\n",
      "Mark Noble\n"
     ]
    }
   ],
   "source": [
    "import pandas as pd\n",
    "df = pd.read_csv(\n",
    "    \"https://raw.githubusercontent.com/vaastav/Fantasy-Premier-League/master/data/2020-21/players_raw.csv\"\n",
    ")\n",
    "expected_scores = df[\"total_points\"] / 38  # penalises players who played fewer games\n",
    "prices = df[\"now_cost\"] / 10\n",
    "positions = df[\"element_type\"]\n",
    "clubs = df[\"team_code\"]\n",
    "# so we can read the results\n",
    "names = df[\"first_name\"] + \" \" + df[\"second_name\"]\n",
    "\n",
    "decisions, captain_decisions, sub_decisions = select_team(expected_scores.values, prices.values, positions.values, clubs.values)\n",
    "player_indices = []\n",
    "\n",
    "print()\n",
    "print(\"First Team:\")\n",
    "for i in range(len(decisions)):\n",
    "    if decisions[i].value() == 1:\n",
    "        print(\"{}{}\".format(names[i], \"*\" if captain_decisions[i].value() == 1 else \"\"))\n",
    "        player_indices.append(i)\n",
    "print()\n",
    "print(\"Subs:\")\n",
    "for i in range(len(sub_decisions)):\n",
    "    if sub_decisions[i].value() == 1:\n",
    "        print(names[i])\n",
    "        player_indices.append(i)\n"
   ]
  },
  {
   "cell_type": "markdown",
   "metadata": {},
   "source": [
    "The above model selects the optimal starters, subs and captain from a set of players with perfect score forecasts and using a simplified treatment of substitutions.\n",
    "\n",
    "This is a decent model of the problem of picking an FPL team from scratch at the beginning of a season. In reality, we have to solve the much more complex, *dynamic* problem of picking a team and planning transfers.\n",
    "\n",
    "Let's set up a simplified task. We already have a selected team and would like to know which transfers will maximise next week's score. We can represent our selected team in the same way as before, as a vector of binary values.\n",
    "\n",
    "Our decisions will be which players to transfer in and which to transfer out. I'm going to revert to a starting-eleven-only model for now to make this more clear."
   ]
  },
  {
   "cell_type": "code",
   "execution_count": 3,
   "metadata": {},
   "outputs": [],
   "source": [
    "num_players = 100\n",
    "current_team_indices = np.random.randint(0, num_players, size=11)  # placeholder\n",
    "clubs = np.random.randint(0, 20, size=100)  # placeholder\n",
    "positions = np.random.randint(1, 5, size=100)  # placeholder\n",
    "expected_scores = np.random.uniform(0, 10, size=100)  # placeholder\n",
    "\n",
    "#current_sub_indices = np.random.randint(0, num_players, size=4)  # placeholder\n",
    "#current_captain_indices = current_team_indices[0]  # placeholder\n",
    "\n",
    "# convert to binary representation\n",
    "current_team_decisions = np.zeros(num_players) \n",
    "current_team_decisions[current_team_indices] = 1\n",
    "# convert to binary representation\n",
    "#current_sub_decisions = np.zeros(num_players) \n",
    "#current_sub_decisions[current_sub_indices] = 1\n",
    "# convert to binary representation\n",
    "#current_captain_decisions = np.zeros(num_players) \n",
    "#current_captain_decisions[current_captain_indices] = 1\n",
    "\n",
    "model = pulp.LpProblem(\"Transfer optimisation\", pulp.LpMaximize)\n",
    "\n",
    "transfer_in_decisions = [\n",
    "    pulp.LpVariable(\"x{}\".format(i), lowBound=0, upBound=1, cat='Integer')\n",
    "    for i in range(num_players)\n",
    "]\n",
    "transfer_out_decisions = [\n",
    "    pulp.LpVariable(\"y{}\".format(i), lowBound=0, upBound=1, cat='Integer')\n",
    "    for i in range(num_players)\n",
    "]\n",
    "\n",
    "next_week_team = [\n",
    "    current_team_decisions[i] + transfer_in_decisions[i] - transfer_out_decisions[i]\n",
    "    for i in range(num_players)\n",
    "]"
   ]
  },
  {
   "cell_type": "markdown",
   "metadata": {},
   "source": [
    "This takes each player and adds or removes him from the team depending on the transfer decisions. This requires a bunch of new constraints.\n",
    "\n",
    "* Only players in the team can be transferred out\n",
    "* Only players not in the team can be transferred in\n",
    "* A player cannot be transferred in and out at the same time\n",
    "* Players should only be transferred with others in the same position\n",
    "\n",
    "We can program the first two in implicitly by constraining the `next_week_team` variables to zero or one. For now, instead of explicitly programming the last constraint I'm just going to have `next_week_team` satisfy the formation constraints from our earlier model. Once we include substitutes, this will automatically enforce the last rule."
   ]
  },
  {
   "cell_type": "code",
   "execution_count": 4,
   "metadata": {},
   "outputs": [],
   "source": [
    "for i in range(num_players):\n",
    "    model += next_week_team[i] <= 1\n",
    "    model += next_week_team[i] >= 0\n",
    "    model += (transfer_in_decisions[i] + transfer_out_decisions[i]) <= 1\n",
    "    \n",
    "# formation constraints\n",
    "# 1 starting goalkeeper\n",
    "model += sum(next_week_team[i] for i in range(num_players) if positions[i] == 1) == 1\n",
    "\n",
    "# 3-5 starting defenders\n",
    "model += sum(next_week_team[i] for i in range(num_players) if positions[i] == 2) >= 3\n",
    "model += sum(next_week_team[i] for i in range(num_players) if positions[i] == 2) <= 5\n",
    "\n",
    "# 3-5 starting midfielders\n",
    "model += sum(next_week_team[i] for i in range(num_players) if positions[i] == 3) >= 3\n",
    "model += sum(next_week_team[i] for i in range(num_players) if positions[i] == 3) <= 5\n",
    "\n",
    "# 1-3 starting attackers\n",
    "model += sum(next_week_team[i] for i in range(num_players) if positions[i] == 4) >= 1\n",
    "model += sum(next_week_team[i] for i in range(num_players) if positions[i] == 4) <= 3\n",
    "\n",
    "# club constraint\n",
    "for club_id in np.unique(clubs):\n",
    "    model += sum(next_week_team[i] for i in range(num_players) if clubs[i] == club_id) <= 3  # max 3 players\n",
    "\n",
    "model += sum(next_week_team) == 11  # total team size\n"
   ]
  },
  {
   "cell_type": "markdown",
   "metadata": {},
   "source": [
    "We also need to deal with prices. We will make the simplifying assumption that prices do not change over time."
   ]
  },
  {
   "cell_type": "code",
   "execution_count": 5,
   "metadata": {},
   "outputs": [],
   "source": [
    "# placeholder budget and prices\n",
    "budget_now = 0\n",
    "buy_prices = sell_prices = np.random.uniform(4, 12, size=100)\n",
    "\n",
    "transfer_in_cost = sum(transfer_in_decisions[i] * buy_prices[i] for i in range(num_players))\n",
    "transfer_out_cost = sum(transfer_in_decisions[i] * sell_prices[i] for i in range(num_players))\n",
    "\n",
    "budget_next_week = budget_now + transfer_out_cost - transfer_in_cost\n",
    "model += budget_next_week >= 0"
   ]
  },
  {
   "cell_type": "markdown",
   "metadata": {},
   "source": [
    "Finally the objective"
   ]
  },
  {
   "cell_type": "code",
   "execution_count": 6,
   "metadata": {},
   "outputs": [],
   "source": [
    "# objective function:\n",
    "model += sum((next_week_team[i]) * expected_scores[i]\n",
    "             for i in range(num_players)), \"Objective\""
   ]
  },
  {
   "cell_type": "code",
   "execution_count": 7,
   "metadata": {},
   "outputs": [
    {
     "data": {
      "text/plain": [
       "1"
      ]
     },
     "execution_count": 7,
     "metadata": {},
     "output_type": "execute_result"
    }
   ],
   "source": [
    "model.solve()"
   ]
  },
  {
   "cell_type": "code",
   "execution_count": 8,
   "metadata": {},
   "outputs": [
    {
     "name": "stdout",
     "output_type": "stream",
     "text": [
      "Transferred in: 2 9.73442993846028 8.864434500678488\n",
      "Transferred in: 13 11.931103201872991 8.508116925064806\n",
      "Transferred out: 26 11.134368519334021 1.0242605226468915\n",
      "Transferred in: 32 10.640630671506848 9.344173611512575\n",
      "Transferred out: 33 4.499802987498393 0.5179668200896625\n",
      "Transferred in: 39 9.608999944612519 9.21765106931958\n",
      "Transferred out: 43 5.5683812824750465 6.368033996230643\n",
      "Transferred out: 47 7.19727837344396 8.44318314088763\n",
      "Transferred in: 52 9.383326346556778 8.859627548595167\n",
      "Transferred out: 54 9.851251974570928 6.770809464800019\n",
      "Transferred in: 56 5.322948790980421 8.754997931164377\n",
      "Transferred out: 60 8.57027932845811 0.32058684583684216\n",
      "Transferred in: 64 5.070708672751263 8.561406207190121\n",
      "Transferred in: 76 4.207946955311924 8.662469952227257\n",
      "Transferred out: 90 8.770576797251092 3.9831336314730956\n",
      "Transferred in: 95 11.956570179557263 8.91433165885844\n"
     ]
    }
   ],
   "source": [
    "for i in range(num_players):\n",
    "    if transfer_in_decisions[i].value() == 1:\n",
    "        print(\"Transferred in: {} {} {}\".format(i, buy_prices[i], expected_scores[i]))\n",
    "    if transfer_out_decisions[i].value() == 1:\n",
    "        print(\"Transferred out: {} {} {}\".format(i, sell_prices[i], expected_scores[i]))"
   ]
  },
  {
   "cell_type": "markdown",
   "metadata": {},
   "source": [
    "We forgot add a penalty for making transfers! This is simple, but requires free and non-free transfers to be treated separately to maintain linearity.\n",
    "\n",
    "Let's wrap this all up into a class `TransferOptimiser`. I've added substitues back in here, and allowed buy and sell prices to be different."
   ]
  },
  {
   "cell_type": "code",
   "execution_count": 9,
   "metadata": {},
   "outputs": [],
   "source": [
    "import sys\n",
    "sys.path.append(\"..\")\n",
    "from fpl_opt.transfers import TransferOptimiser"
   ]
  },
  {
   "cell_type": "code",
   "execution_count": 10,
   "metadata": {},
   "outputs": [],
   "source": [
    "num_players = 100\n",
    "current_squad_indices = np.random.randint(0, num_players, size=15)\n",
    "clubs = np.random.randint(0, 20, size=100)\n",
    "positions = np.random.randint(1, 5, size=100)\n",
    "expected_scores = np.random.uniform(0, 10, size=100)\n",
    "current_squad_decisions = np.zeros(num_players) \n",
    "current_squad_decisions[current_team_indices] = 1\n",
    "# placeholder budget and prices\n",
    "budget_now = 0\n",
    "buy_prices = sell_prices = np.random.uniform(4, 12, size=100)\n",
    "\n",
    "opt = TransferOptimiser(expected_scores, buy_prices, sell_prices, positions, clubs)"
   ]
  },
  {
   "cell_type": "code",
   "execution_count": 11,
   "metadata": {},
   "outputs": [
    {
     "name": "stdout",
     "output_type": "stream",
     "text": [
      "Solver status: 1\n"
     ]
    }
   ],
   "source": [
    "transfer_in_decisions, transfer_out_decisions, starters, sub_decisions, captain_decisions = opt.solve(current_squad_indices, budget_now, sub_factor=0.2)"
   ]
  },
  {
   "cell_type": "code",
   "execution_count": 12,
   "metadata": {},
   "outputs": [
    {
     "name": "stdout",
     "output_type": "stream",
     "text": [
      "Transferred in: 0 4.063162243123512 8.992295878144388\n",
      "Transferred in: 10 5.532213300265095 9.598219070362006\n",
      "Transferred out: 24 9.626909366374127 3.6316033386893585\n",
      "Transferred out: 38 8.03415458862758 2.1046100010414936\n",
      "Transferred out: 41 5.7146887241131115 0.946000661535843\n",
      "Transferred in: 50 9.894597049437925 9.86605945476136\n",
      "Transferred in: 51 11.25680731745625 9.808139720134042\n",
      "Transferred out: 62 11.945787566289745 3.487565527192309\n",
      "Transferred out: 64 6.997764236971407 0.835103039518793\n",
      "Transferred in: 66 7.186332820864807 9.716992969033099\n"
     ]
    }
   ],
   "source": [
    "for i in range(num_players):\n",
    "    if transfer_in_decisions[i].value() == 1:\n",
    "        print(\"Transferred in: {} {} {}\".format(i, buy_prices[i], expected_scores[i]))\n",
    "    if transfer_out_decisions[i].value() == 1:\n",
    "        print(\"Transferred out: {} {} {}\".format(i, sell_prices[i], expected_scores[i]))"
   ]
  },
  {
   "cell_type": "markdown",
   "metadata": {},
   "source": [
    "Let's apply this to my current team, again using a very simple player score forecast."
   ]
  },
  {
   "cell_type": "code",
   "execution_count": 13,
   "metadata": {},
   "outputs": [
    {
     "name": "stdout",
     "output_type": "stream",
     "text": [
      "Total expected score = 61.82105263157895\n",
      "\n",
      "First Team:\n",
      "Ashley Westwood 3.1052631578947367 5.5\n",
      "Nick Pope 4.473684210526316 5.5\n",
      "Virgil van Dijk 4.684210526315789 6.5\n",
      "Andrew Robertson 4.7631578947368425 7.0\n",
      "Trent Alexander-Arnold 5.526315789473684 7.5\n",
      "Kevin De Bruyne* 6.605263157894737 11.5\n",
      "Anthony Martial 5.2631578947368425 9.0\n",
      "John Lundstram 3.789473684210526 5.5\n",
      "Danny Ings 5.2105263157894735 8.5\n",
      "Matt Doherty 4.394736842105263 6.0\n",
      "Raúl Jiménez 5.105263157894737 8.5\n",
      "\n",
      "Subs:\n",
      "Dale Stephens 1.6578947368421053 4.5\n",
      "Mathew Ryan 3.5526315789473686 4.5\n",
      "John Egan 3.5 5.0\n",
      "Mark Noble 2.763157894736842 5.0\n"
     ]
    }
   ],
   "source": [
    "import pandas as pd\n",
    "df = pd.read_csv(\n",
    "    \"https://raw.githubusercontent.com/vaastav/Fantasy-Premier-League/master/data/2020-21/players_raw.csv\"\n",
    ")\n",
    "expected_scores = df[\"total_points\"] / 38  # penalises players who played fewer games\n",
    "prices = df[\"now_cost\"] / 10\n",
    "positions = df[\"element_type\"]\n",
    "clubs = df[\"team_code\"]\n",
    "# so we can read the results\n",
    "names = df[\"first_name\"] + \" \" + df[\"second_name\"]\n",
    "\n",
    "decisions, captain_decisions, sub_decisions = select_team(expected_scores, prices.values, positions.values, clubs.values)\n",
    "player_indices = []\n",
    "\n",
    "print()\n",
    "print(\"First Team:\")\n",
    "for i in range(len(decisions)):\n",
    "    if decisions[i].value() == 1:\n",
    "        print(\"{}{}\".format(names[i], \"*\" if captain_decisions[i].value() == 1 else \"\"), expected_scores[i], prices[i])\n",
    "        player_indices.append(i)\n",
    "print()\n",
    "print(\"Subs:\")\n",
    "for i in range(len(sub_decisions)):\n",
    "    if sub_decisions[i].value() == 1:\n",
    "        print(names[i], expected_scores[i], prices[i])\n",
    "        player_indices.append(i)"
   ]
  },
  {
   "cell_type": "code",
   "execution_count": 14,
   "metadata": {},
   "outputs": [],
   "source": [
    "# next week score forecast: start with points-per-game\n",
    "score_forecast = df[\"total_points\"] / 38\n",
    "# let's make up a nonsense forecast to add some dynamics -- +1 to Chelsea players\n",
    "score_forecast.loc[df[\"team_code\"] == 8] += 1\n",
    "# -1 for Liverpool players\n",
    "score_forecast.loc[df[\"team_code\"] == 14] -= 1\n",
    "score_forecast = score_forecast.fillna(0)"
   ]
  },
  {
   "cell_type": "code",
   "execution_count": 15,
   "metadata": {},
   "outputs": [
    {
     "name": "stderr",
     "output_type": "stream",
     "text": [
      "/home/joe/forecasting-fantasy-football/.env/lib/python3.6/site-packages/pulp/pulp.py:1195: UserWarning: Spaces are not permitted in the name. Converted to '_'\n",
      "  warnings.warn(\"Spaces are not permitted in the name. Converted to '_'\")\n"
     ]
    },
    {
     "name": "stdout",
     "output_type": "stream",
     "text": [
      "Solver status: 1\n"
     ]
    }
   ],
   "source": [
    "opt = TransferOptimiser(score_forecast.values, prices.values, prices.values, positions.values, clubs.values)\n",
    "transfer_in_decisions, transfer_out_decisions, starters, sub_decisions, captain_decisions = opt.solve(player_indices, budget_now=0, sub_factor=0.2)"
   ]
  },
  {
   "cell_type": "code",
   "execution_count": 16,
   "metadata": {},
   "outputs": [
    {
     "name": "stdout",
     "output_type": "stream",
     "text": [
      "Transferred in: César Azpilicueta 6.0 4.421052631578947\n",
      "Transferred out: Virgil van Dijk 6.5 3.6842105263157894\n"
     ]
    }
   ],
   "source": [
    "for i in range(len(transfer_in_decisions)):\n",
    "    if transfer_in_decisions[i].value() == 1:\n",
    "        print(\"Transferred in: {} {} {}\".format(names[i], prices[i], score_forecast[i]))\n",
    "    if transfer_out_decisions[i].value() == 1:\n",
    "        print(\"Transferred out: {} {} {}\".format(names[i], prices[i], score_forecast[i]))"
   ]
  },
  {
   "cell_type": "code",
   "execution_count": 17,
   "metadata": {},
   "outputs": [
    {
     "name": "stdout",
     "output_type": "stream",
     "text": [
      "\n",
      "First Team:\n",
      "Ashley Westwood\n",
      "Nick Pope\n",
      "César Azpilicueta\n",
      "Andrew Robertson\n",
      "Trent Alexander-Arnold\n",
      "Kevin De Bruyne*\n",
      "Anthony Martial\n",
      "John Lundstram\n",
      "Danny Ings\n",
      "Matt Doherty\n",
      "Raúl Jiménez\n",
      "\n",
      "Subs:\n",
      "Dale Stephens\n",
      "Mathew Ryan\n",
      "John Egan\n",
      "Mark Noble\n"
     ]
    }
   ],
   "source": [
    "player_indices = []\n",
    "print()\n",
    "print(\"First Team:\")\n",
    "for i in range(len(starters)):\n",
    "    if starters[i].value() == 1:\n",
    "        print(\"{}{}\".format(names[i], \"*\" if captain_decisions[i].value() == 1 else \"\"))\n",
    "        player_indices.append(i)\n",
    "print()\n",
    "print(\"Subs:\")\n",
    "for i in range(len(sub_decisions)):\n",
    "    if sub_decisions[i].value() == 1:\n",
    "        print(names[i])\n",
    "        player_indices.append(i)"
   ]
  },
  {
   "cell_type": "code",
   "execution_count": 48,
   "metadata": {},
   "outputs": [
    {
     "name": "stderr",
     "output_type": "stream",
     "text": [
      "/home/joe/forecasting-fantasy-football/.env/lib/python3.6/site-packages/pulp/pulp.py:1195: UserWarning: Spaces are not permitted in the name. Converted to '_'\n",
      "  warnings.warn(\"Spaces are not permitted in the name. Converted to '_'\")\n"
     ]
    },
    {
     "name": "stdout",
     "output_type": "stream",
     "text": [
      "<class 'pulp.pulp.LpAffineExpression'>\n",
      "<class 'pulp.pulp.LpAffineExpression'>\n",
      "<class 'pulp.pulp.LpAffineExpression'>\n",
      "<class 'pulp.pulp.LpAffineExpression'>\n"
     ]
    }
   ],
   "source": []
  },
  {
   "cell_type": "code",
   "execution_count": 49,
   "metadata": {},
   "outputs": [
    {
     "name": "stdout",
     "output_type": "stream",
     "text": [
      "Week 0\n",
      "Transferred in: James Tarkowski 5.5 3.763157894736842\n",
      "Transferred out: César Azpilicueta 6.0 3.421052631578947\n",
      "Week 1\n",
      "Transferred out: Ashley Westwood 5.5 3.1052631578947367\n",
      "Transferred in: Jordan Henderson 5.5 4.052631578947368\n",
      "Week 2\n",
      "Week 3\n",
      "Transferred in: Ashley Westwood 5.5 3.1052631578947367\n",
      "Transferred out: Jordan Henderson 5.5 2.0526315789473686\n"
     ]
    }
   ],
   "source": [
    "HORIZON = 4\n",
    "multi_score_forecast = pd.DataFrame({\"week_{}\".format(i): df[\"total_points\"] / 38 for i in range(HORIZON)})\n",
    "multi_score_forecast.head()\n",
    "\n",
    "\n",
    "multi_score_forecast.loc[df[\"team_code\"] == 8, \"week_0\"] += 1\n",
    "multi_score_forecast.loc[df[\"team_code\"] == 8, \"week_1\"] += 0\n",
    "multi_score_forecast.loc[df[\"team_code\"] == 8, \"week_2\"] -= 1\n",
    "multi_score_forecast.loc[df[\"team_code\"] == 8, \"week_3\"] -= 1\n",
    "\n",
    "multi_score_forecast.loc[df[\"team_code\"] == 14, \"week_0\"] -= 1\n",
    "multi_score_forecast.loc[df[\"team_code\"] == 14, \"week_1\"] += 1\n",
    "multi_score_forecast.loc[df[\"team_code\"] == 14, \"week_2\"] += 1\n",
    "multi_score_forecast.loc[df[\"team_code\"] == 14, \"week_3\"] -= 1\n",
    "\n",
    "from fpl_opt.transfers import MultiHorizonTransferOptimiser\n",
    "opt = MultiHorizonTransferOptimiser(multi_score_forecast.values.T, prices.values, prices.values, positions.values, clubs.values, 4)\n",
    "transfer_in_decisions, transfer_out_decisions, starters, sub_decisions, captain_decisions = opt.solve(player_indices, budget_now=0, sub_factor=0.2)\n",
    "\n",
    "for week in range(len(transfer_in_decisions)):\n",
    "    print(\"Week {}\".format(week))\n",
    "    for i in range(len(transfer_in_decisions[week])):\n",
    "        if transfer_in_decisions[week][i].value() == 1:\n",
    "            print(\"Transferred in: {} {} {}\".format(names[i], prices[i], multi_score_forecast.values.T[week][i]))\n",
    "        if transfer_out_decisions[week][i].value() == 1:\n",
    "            print(\"Transferred out: {} {} {}\".format(names[i], prices[i], multi_score_forecast.values.T[week][i]))"
   ]
  },
  {
   "cell_type": "code",
   "execution_count": null,
   "metadata": {},
   "outputs": [],
   "source": []
  }
 ],
 "metadata": {
  "kernelspec": {
   "display_name": "Python 3",
   "language": "python",
   "name": "python3"
  },
  "language_info": {
   "codemirror_mode": {
    "name": "ipython",
    "version": 3
   },
   "file_extension": ".py",
   "mimetype": "text/x-python",
   "name": "python",
   "nbconvert_exporter": "python",
   "pygments_lexer": "ipython3",
   "version": "3.6.9"
  }
 },
 "nbformat": 4,
 "nbformat_minor": 2
}
