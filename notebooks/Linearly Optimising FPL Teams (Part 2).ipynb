{
 "cells": [
  {
   "cell_type": "code",
   "execution_count": 1,
   "metadata": {},
   "outputs": [],
   "source": [
    "import pulp\n",
    "import numpy as np\n",
    "\n",
    "def select_team(expected_scores, prices, positions, clubs, total_budget=100, sub_factor=0.2):\n",
    "    num_players = len(expected_scores)\n",
    "    model = pulp.LpProblem(\"Constrained value maximisation\", pulp.LpMaximize)\n",
    "    decisions = [\n",
    "        pulp.LpVariable(\"x{}\".format(i), lowBound=0, upBound=1, cat='Integer')\n",
    "        for i in range(num_players)\n",
    "    ]\n",
    "    captain_decisions = [\n",
    "        pulp.LpVariable(\"y{}\".format(i), lowBound=0, upBound=1, cat='Integer')\n",
    "        for i in range(num_players)\n",
    "    ]\n",
    "    sub_decisions = [\n",
    "        pulp.LpVariable(\"z{}\".format(i), lowBound=0, upBound=1, cat='Integer')\n",
    "        for i in range(num_players)\n",
    "    ]\n",
    "\n",
    "\n",
    "    # objective function:\n",
    "    model += sum((captain_decisions[i] + decisions[i] + sub_decisions[i]*sub_factor) * expected_scores[i]\n",
    "                 for i in range(num_players)), \"Objective\"\n",
    "\n",
    "    # cost constraint\n",
    "    model += sum((decisions[i] + sub_decisions[i]) * prices[i] for i in range(num_players)) <= total_budget  # total cost\n",
    "\n",
    "    # position constraints\n",
    "    # 1 starting goalkeeper\n",
    "    model += sum(decisions[i] for i in range(num_players) if positions[i] == 1) == 1\n",
    "    # 2 total goalkeepers\n",
    "    model += sum(decisions[i] + sub_decisions[i] for i in range(num_players) if positions[i] == 1) == 2\n",
    "\n",
    "    # 3-5 starting defenders\n",
    "    model += sum(decisions[i] for i in range(num_players) if positions[i] == 2) >= 3\n",
    "    model += sum(decisions[i] for i in range(num_players) if positions[i] == 2) <= 5\n",
    "    # 5 total defenders\n",
    "    model += sum(decisions[i] + sub_decisions[i] for i in range(num_players) if positions[i] == 2) == 5\n",
    "\n",
    "    # 3-5 starting midfielders\n",
    "    model += sum(decisions[i] for i in range(num_players) if positions[i] == 3) >= 3\n",
    "    model += sum(decisions[i] for i in range(num_players) if positions[i] == 3) <= 5\n",
    "    # 5 total midfielders\n",
    "    model += sum(decisions[i] + sub_decisions[i] for i in range(num_players) if positions[i] == 3) == 5\n",
    "\n",
    "    # 1-3 starting attackers\n",
    "    model += sum(decisions[i] for i in range(num_players) if positions[i] == 4) >= 1\n",
    "    model += sum(decisions[i] for i in range(num_players) if positions[i] == 4) <= 3\n",
    "    # 3 total attackers\n",
    "    model += sum(decisions[i] + sub_decisions[i] for i in range(num_players) if positions[i] == 4) == 3\n",
    "\n",
    "    # club constraint\n",
    "    for club_id in np.unique(clubs):\n",
    "        model += sum(decisions[i] + sub_decisions[i] for i in range(num_players) if clubs[i] == club_id) <= 3  # max 3 players\n",
    "\n",
    "    model += sum(decisions) == 11  # total team size\n",
    "    model += sum(captain_decisions) == 1  # 1 captain\n",
    "    \n",
    "    for i in range(num_players):  \n",
    "        model += (decisions[i] - captain_decisions[i]) >= 0  # captain must also be on team\n",
    "        model += (decisions[i] + sub_decisions[i]) <= 1  # subs must not be on team\n",
    "\n",
    "    model.solve()\n",
    "    print(\"Total expected score = {}\".format(model.objective.value()))\n",
    "\n",
    "    return decisions, captain_decisions, sub_decisions"
   ]
  },
  {
   "cell_type": "markdown",
   "metadata": {},
   "source": [
    "The above model selects the optimal starters, subs and captain from a set of players with perfect score forecasts and using a simplified treatment of substitutions.\n",
    "\n",
    "This is a fairly realistic model of the problem of picking an FPL team from scratch at the beginning of a season. However, once you already have a team and need to plan transfers, it is impractical.\n",
    "\n",
    "Let's set up a simplified task. We already have a selected team and would like to know which transfers will maximise next week's score. We can represent our selected team in the same way as before, as a vector of binary values.\n",
    "\n",
    "Our decisions will be which players to transfer in and which to transfer out. I'm going to revert to a starting-eleven-only model for now to make this more clear."
   ]
  },
  {
   "cell_type": "code",
   "execution_count": 2,
   "metadata": {},
   "outputs": [],
   "source": [
    "num_players = 100\n",
    "current_team_indices = np.random.randint(0, num_players, size=11)  # placeholder\n",
    "clubs = np.random.randint(0, 20, size=100)  # placeholder\n",
    "positions = np.random.randint(1, 5, size=100)  # placeholder\n",
    "expected_scores = np.random.uniform(0, 10, size=100)  # placeholder\n",
    "\n",
    "#current_sub_indices = np.random.randint(0, num_players, size=4)  # placeholder\n",
    "#current_captain_indices = current_team_indices[0]  # placeholder\n",
    "\n",
    "# convert to binary representation\n",
    "current_team_decisions = np.zeros(num_players) \n",
    "current_team_decisions[current_team_indices] = 1\n",
    "# convert to binary representation\n",
    "#current_sub_decisions = np.zeros(num_players) \n",
    "#current_sub_decisions[current_sub_indices] = 1\n",
    "# convert to binary representation\n",
    "#current_captain_decisions = np.zeros(num_players) \n",
    "#current_captain_decisions[current_captain_indices] = 1\n",
    "\n",
    "model = pulp.LpProblem(\"Transfer optimisation\", pulp.LpMaximize)\n",
    "\n",
    "transfer_in_decisions = [\n",
    "    pulp.LpVariable(\"x{}\".format(i), lowBound=0, upBound=1, cat='Integer')\n",
    "    for i in range(num_players)\n",
    "]\n",
    "transfer_out_decisions = [\n",
    "    pulp.LpVariable(\"y{}\".format(i), lowBound=0, upBound=1, cat='Integer')\n",
    "    for i in range(num_players)\n",
    "]\n",
    "\n",
    "next_week_team = [\n",
    "    current_team_decisions[i] + transfer_in_decisions[i] - transfer_out_decisions[i]\n",
    "    for i in range(num_players)\n",
    "]"
   ]
  },
  {
   "cell_type": "markdown",
   "metadata": {},
   "source": [
    "This takes each player and adds or removes him from the team depending on the transfer decisions. This requires a bunch of new constraints.\n",
    "\n",
    "* only players in the team can be transferred out\n",
    "* only players not in the team can be transferred in\n",
    "* players should not be transferred in and out simultaneously\n",
    "* players should only be transferred with others in the same position\n",
    "\n",
    "We can program the first two in implicitly by constraining the `next_week_team` variables to zero or one. For now, instead of programming the last constraint I'm just going to have `next_week_team` satisfy the formation constraints from our earlier model. Once we include substitutes, this will automatically enforce the last rule."
   ]
  },
  {
   "cell_type": "code",
   "execution_count": 3,
   "metadata": {},
   "outputs": [],
   "source": [
    "for i in range(num_players):\n",
    "    model += next_week_team[i] <= 1\n",
    "    model += next_week_team[i] >= 0\n",
    "    model += (transfer_in_decisions[i] + transfer_out_decisions[i]) <= 1\n",
    "    \n",
    "# formation constraints\n",
    "# 1 starting goalkeeper\n",
    "model += sum(next_week_team[i] for i in range(num_players) if positions[i] == 1) == 1\n",
    "\n",
    "# 3-5 starting defenders\n",
    "model += sum(next_week_team[i] for i in range(num_players) if positions[i] == 2) >= 3\n",
    "model += sum(next_week_team[i] for i in range(num_players) if positions[i] == 2) <= 5\n",
    "\n",
    "# 3-5 starting midfielders\n",
    "model += sum(next_week_team[i] for i in range(num_players) if positions[i] == 3) >= 3\n",
    "model += sum(next_week_team[i] for i in range(num_players) if positions[i] == 3) <= 5\n",
    "\n",
    "# 1-3 starting attackers\n",
    "model += sum(next_week_team[i] for i in range(num_players) if positions[i] == 4) >= 1\n",
    "model += sum(next_week_team[i] for i in range(num_players) if positions[i] == 4) <= 3\n",
    "\n",
    "# club constraint\n",
    "for club_id in np.unique(clubs):\n",
    "    model += sum(next_week_team[i] for i in range(num_players) if clubs[i] == club_id) <= 3  # max 3 players\n",
    "\n",
    "model += sum(next_week_team) == 11  # total team size\n"
   ]
  },
  {
   "cell_type": "markdown",
   "metadata": {},
   "source": [
    "We also need to deal with prices. These can be a little tricky in FPL because they change over time and the sell price is not necessarily equal to the buy price. For now we will assume they are the same."
   ]
  },
  {
   "cell_type": "code",
   "execution_count": 4,
   "metadata": {},
   "outputs": [],
   "source": [
    "# placeholder budget and prices\n",
    "budget_now = 0\n",
    "buy_prices = sell_prices = np.random.uniform(4, 12, size=100)\n",
    "\n",
    "transfer_in_cost = sum(transfer_in_decisions[i] * buy_prices[i] for i in range(num_players))\n",
    "transfer_out_cost = sum(transfer_in_decisions[i] * sell_prices[i] for i in range(num_players))\n",
    "\n",
    "budget_next_week = budget_now + transfer_out_cost - transfer_in_cost\n",
    "model += budget_next_week >= 0"
   ]
  },
  {
   "cell_type": "markdown",
   "metadata": {},
   "source": [
    "Finally the objective"
   ]
  },
  {
   "cell_type": "code",
   "execution_count": 5,
   "metadata": {},
   "outputs": [],
   "source": [
    "# objective function:\n",
    "model += sum((next_week_team[i]) * expected_scores[i]\n",
    "             for i in range(num_players)), \"Objective\""
   ]
  },
  {
   "cell_type": "code",
   "execution_count": 6,
   "metadata": {},
   "outputs": [
    {
     "data": {
      "text/plain": [
       "1"
      ]
     },
     "execution_count": 6,
     "metadata": {},
     "output_type": "execute_result"
    }
   ],
   "source": [
    "model.solve()"
   ]
  },
  {
   "cell_type": "code",
   "execution_count": 7,
   "metadata": {},
   "outputs": [
    {
     "name": "stdout",
     "output_type": "stream",
     "text": [
      "Transferred in: 13 11.20626768198106 9.505603923779274\n",
      "Transferred in: 15 4.939927312958106 9.609838497484006\n",
      "Transferred in: 22 9.137901852274645 9.010371068691004\n",
      "Transferred out: 25 5.29429252265105 8.620692966222226\n",
      "Transferred out: 30 10.14272826484729 7.773619755157312\n",
      "Transferred in: 34 6.734437821308932 8.231287253284163\n",
      "Transferred out: 37 5.212871573042596 1.4982664793878064\n",
      "Transferred in: 38 10.642506879043491 9.867986005307005\n",
      "Transferred out: 39 5.2370217152206635 5.788008152815495\n",
      "Transferred in: 42 10.0369844555168 8.299627495221252\n",
      "Transferred out: 48 5.741012123976881 6.709824640490356\n",
      "Transferred in: 56 6.374779811602015 8.485773517770227\n",
      "Transferred in: 67 8.939532524135288 9.794591498295466\n",
      "Transferred in: 68 7.5497072840067885 9.514201111425262\n",
      "Transferred out: 70 6.075733158596026 6.3378789731352105\n",
      "Transferred out: 76 7.737090409888846 5.6655770345548815\n",
      "Transferred in: 82 9.212347339964058 8.840923754402954\n",
      "Transferred in: 83 8.238063906819031 9.81760076004074\n",
      "Transferred in: 86 6.835442302318904 9.10459332678785\n",
      "Transferred out: 88 10.613114542559423 3.298393460572174\n",
      "Transferred in: 89 9.972224171293778 9.62217958854089\n",
      "Transferred out: 91 5.956669368166595 7.137586393617358\n",
      "Transferred out: 93 11.376020116783057 3.1483012122985166\n",
      "Transferred in: 95 4.618182850025509 9.638489187433644\n"
     ]
    }
   ],
   "source": [
    "for i in range(num_players):\n",
    "    if transfer_in_decisions[i].value() == 1:\n",
    "        print(\"Transferred in: {} {} {}\".format(i, buy_prices[i], expected_scores[i]))\n",
    "    if transfer_out_decisions[i].value() == 1:\n",
    "        print(\"Transferred out: {} {} {}\".format(i, sell_prices[i], expected_scores[i]))"
   ]
  },
  {
   "cell_type": "markdown",
   "metadata": {},
   "source": [
    "We forgot add a penalty for making transfers. We get 1 free transfer per week, with each additional transfer costing 4 points. We can explicitly code this into the model, but to keep linearity it means we need to use separate variables for free and paid transfers."
   ]
  },
  {
   "cell_type": "code",
   "execution_count": 57,
   "metadata": {},
   "outputs": [],
   "source": [
    "def optimise_transfers(current_team_indices, current_sub_indices, current_captain_indices, expected_scores, buy_prices, sell_prices, positions, clubs, budget_now=0):\n",
    "    num_players = len(expected_scores)\n",
    "    \n",
    "    current_team_decisions = np.zeros(num_players) \n",
    "    current_team_decisions[current_team_indices] = 1\n",
    "\n",
    "    current_sub_decisions = np.zeros(num_players) \n",
    "    current_sub_decisions[current_sub_indices] = 1\n",
    "\n",
    "    current_captain_decisions = np.zeros(num_players) \n",
    "    current_captain_decisions[current_captain_indices] = 1\n",
    "\n",
    "    model = pulp.LpProblem(\"Transfer optimisation\", pulp.LpMaximize)\n",
    "    transfer_in_decisions_free = [\n",
    "        pulp.LpVariable(\"x{}\".format(i), lowBound=0, upBound=1, cat='Integer')\n",
    "        for i in range(num_players)\n",
    "    ]\n",
    "    transfer_in_decisions_paid = [\n",
    "        pulp.LpVariable(\"y{}\".format(i), lowBound=0, upBound=1, cat='Integer')\n",
    "        for i in range(num_players)\n",
    "    ]\n",
    "    transfer_in_decisions = [\n",
    "        transfer_in_decisions_free[i] + transfer_in_decisions_paid[i]\n",
    "        for i in range(num_players)\n",
    "    ]\n",
    "    transfer_out_decisions = [\n",
    "        pulp.LpVariable(\"z{}\".format(i), lowBound=0, upBound=1, cat='Integer')\n",
    "        for i in range(num_players)\n",
    "    ]\n",
    "    \n",
    "    model += sum(transfer_in_decisions_free) <= 1  # only 1 free transfer\n",
    "    \n",
    "    next_week_team = [\n",
    "        current_team_decisions[i] + transfer_in_decisions[i] - transfer_out_decisions[i]\n",
    "        for i in range(num_players)\n",
    "    ]\n",
    "    \n",
    "    for i in range(num_players):\n",
    "        model += next_week_team[i] <= 1\n",
    "        model += next_week_team[i] >= 0\n",
    "        model += (transfer_in_decisions[i] + transfer_out_decisions[i]) <= 1\n",
    "\n",
    "    # formation constraints\n",
    "    # 1 starting goalkeeper\n",
    "    model += sum(next_week_team[i] for i in range(num_players) if positions[i] == 1) == 1\n",
    "\n",
    "    # 3-5 starting defenders\n",
    "    model += sum(next_week_team[i] for i in range(num_players) if positions[i] == 2) >= 3\n",
    "    model += sum(next_week_team[i] for i in range(num_players) if positions[i] == 2) <= 5\n",
    "\n",
    "    # 3-5 starting midfielders\n",
    "    model += sum(next_week_team[i] for i in range(num_players) if positions[i] == 3) >= 3\n",
    "    model += sum(next_week_team[i] for i in range(num_players) if positions[i] == 3) <= 5\n",
    "\n",
    "    # 1-3 starting attackers\n",
    "    model += sum(next_week_team[i] for i in range(num_players) if positions[i] == 4) >= 1\n",
    "    model += sum(next_week_team[i] for i in range(num_players) if positions[i] == 4) <= 3\n",
    "\n",
    "    # club constraint\n",
    "    for club_id in np.unique(clubs):\n",
    "        model += sum(next_week_team[i] for i in range(num_players) if clubs[i] == club_id) <= 3  # max 3 players\n",
    "\n",
    "    model += sum(next_week_team) == 11  # total team size\n",
    "\n",
    "    transfer_in_cost = sum(transfer_in_decisions[i] * buy_prices[i] for i in range(num_players))\n",
    "    transfer_out_cost = sum(transfer_out_decisions[i] * sell_prices[i] for i in range(num_players))\n",
    "\n",
    "    budget_next_week = budget_now + transfer_out_cost - transfer_in_cost\n",
    "    model += budget_next_week >= 0\n",
    "    \n",
    "    # objective function:\n",
    "    expt_points = sum(next_week_team[i] * expected_scores[i] for i in range(num_players))\n",
    "    model += expt_points - sum(transfer_in_decisions_paid) * 4, \"Objective\"\n",
    "    model.solve()\n",
    "    \n",
    "    for i in range(num_players):\n",
    "        if transfer_in_decisions[i].value() == 1:\n",
    "            print(\"Transferred in: {} {} {}\".format(i, buy_prices[i], expected_scores[i]))\n",
    "        if transfer_out_decisions[i].value() == 1:\n",
    "            print(\"Transferred out: {} {} {}\".format(i, sell_prices[i], expected_scores[i]))"
   ]
  },
  {
   "cell_type": "code",
   "execution_count": 58,
   "metadata": {},
   "outputs": [
    {
     "ename": "IndexError",
     "evalue": "index 100 is out of bounds for axis 0 with size 100",
     "output_type": "error",
     "traceback": [
      "\u001b[0;31m---------------------------------------------------------------------------\u001b[0m",
      "\u001b[0;31mIndexError\u001b[0m                                Traceback (most recent call last)",
      "\u001b[0;32m<ipython-input-58-0aaa97e6802b>\u001b[0m in \u001b[0;36m<module>\u001b[0;34m\u001b[0m\n\u001b[0;32m----> 1\u001b[0;31m \u001b[0moptimise_transfers\u001b[0m\u001b[0;34m(\u001b[0m\u001b[0mcurrent_team_indices\u001b[0m\u001b[0;34m,\u001b[0m \u001b[0mexpected_scores\u001b[0m\u001b[0;34m,\u001b[0m \u001b[0mbuy_prices\u001b[0m\u001b[0;34m,\u001b[0m \u001b[0msell_prices\u001b[0m\u001b[0;34m,\u001b[0m \u001b[0mpositions\u001b[0m\u001b[0;34m,\u001b[0m \u001b[0mclubs\u001b[0m\u001b[0;34m,\u001b[0m \u001b[0mbudget_now\u001b[0m\u001b[0;34m)\u001b[0m\u001b[0;34m\u001b[0m\u001b[0;34m\u001b[0m\u001b[0m\n\u001b[0m",
      "\u001b[0;32m<ipython-input-57-eb286198f40f>\u001b[0m in \u001b[0;36moptimise_transfers\u001b[0;34m(current_team_indices, expected_scores, buy_prices, sell_prices, positions, clubs, budget_now)\u001b[0m\n\u001b[1;32m     57\u001b[0m     \u001b[0mmodel\u001b[0m \u001b[0;34m+=\u001b[0m \u001b[0msum\u001b[0m\u001b[0;34m(\u001b[0m\u001b[0mnext_week_team\u001b[0m\u001b[0;34m)\u001b[0m \u001b[0;34m==\u001b[0m \u001b[0;36m11\u001b[0m  \u001b[0;31m# total team size\u001b[0m\u001b[0;34m\u001b[0m\u001b[0;34m\u001b[0m\u001b[0m\n\u001b[1;32m     58\u001b[0m \u001b[0;34m\u001b[0m\u001b[0m\n\u001b[0;32m---> 59\u001b[0;31m     \u001b[0mtransfer_in_cost\u001b[0m \u001b[0;34m=\u001b[0m \u001b[0msum\u001b[0m\u001b[0;34m(\u001b[0m\u001b[0mtransfer_in_decisions\u001b[0m\u001b[0;34m[\u001b[0m\u001b[0mi\u001b[0m\u001b[0;34m]\u001b[0m \u001b[0;34m*\u001b[0m \u001b[0mbuy_prices\u001b[0m\u001b[0;34m[\u001b[0m\u001b[0mi\u001b[0m\u001b[0;34m]\u001b[0m \u001b[0;32mfor\u001b[0m \u001b[0mi\u001b[0m \u001b[0;32min\u001b[0m \u001b[0mrange\u001b[0m\u001b[0;34m(\u001b[0m\u001b[0mnum_players\u001b[0m\u001b[0;34m)\u001b[0m\u001b[0;34m)\u001b[0m\u001b[0;34m\u001b[0m\u001b[0;34m\u001b[0m\u001b[0m\n\u001b[0m\u001b[1;32m     60\u001b[0m     \u001b[0mtransfer_out_cost\u001b[0m \u001b[0;34m=\u001b[0m \u001b[0msum\u001b[0m\u001b[0;34m(\u001b[0m\u001b[0mtransfer_out_decisions\u001b[0m\u001b[0;34m[\u001b[0m\u001b[0mi\u001b[0m\u001b[0;34m]\u001b[0m \u001b[0;34m*\u001b[0m \u001b[0msell_prices\u001b[0m\u001b[0;34m[\u001b[0m\u001b[0mi\u001b[0m\u001b[0;34m]\u001b[0m \u001b[0;32mfor\u001b[0m \u001b[0mi\u001b[0m \u001b[0;32min\u001b[0m \u001b[0mrange\u001b[0m\u001b[0;34m(\u001b[0m\u001b[0mnum_players\u001b[0m\u001b[0;34m)\u001b[0m\u001b[0;34m)\u001b[0m\u001b[0;34m\u001b[0m\u001b[0;34m\u001b[0m\u001b[0m\n\u001b[1;32m     61\u001b[0m \u001b[0;34m\u001b[0m\u001b[0m\n",
      "\u001b[0;32m<ipython-input-57-eb286198f40f>\u001b[0m in \u001b[0;36m<genexpr>\u001b[0;34m(.0)\u001b[0m\n\u001b[1;32m     57\u001b[0m     \u001b[0mmodel\u001b[0m \u001b[0;34m+=\u001b[0m \u001b[0msum\u001b[0m\u001b[0;34m(\u001b[0m\u001b[0mnext_week_team\u001b[0m\u001b[0;34m)\u001b[0m \u001b[0;34m==\u001b[0m \u001b[0;36m11\u001b[0m  \u001b[0;31m# total team size\u001b[0m\u001b[0;34m\u001b[0m\u001b[0;34m\u001b[0m\u001b[0m\n\u001b[1;32m     58\u001b[0m \u001b[0;34m\u001b[0m\u001b[0m\n\u001b[0;32m---> 59\u001b[0;31m     \u001b[0mtransfer_in_cost\u001b[0m \u001b[0;34m=\u001b[0m \u001b[0msum\u001b[0m\u001b[0;34m(\u001b[0m\u001b[0mtransfer_in_decisions\u001b[0m\u001b[0;34m[\u001b[0m\u001b[0mi\u001b[0m\u001b[0;34m]\u001b[0m \u001b[0;34m*\u001b[0m \u001b[0mbuy_prices\u001b[0m\u001b[0;34m[\u001b[0m\u001b[0mi\u001b[0m\u001b[0;34m]\u001b[0m \u001b[0;32mfor\u001b[0m \u001b[0mi\u001b[0m \u001b[0;32min\u001b[0m \u001b[0mrange\u001b[0m\u001b[0;34m(\u001b[0m\u001b[0mnum_players\u001b[0m\u001b[0;34m)\u001b[0m\u001b[0;34m)\u001b[0m\u001b[0;34m\u001b[0m\u001b[0;34m\u001b[0m\u001b[0m\n\u001b[0m\u001b[1;32m     60\u001b[0m     \u001b[0mtransfer_out_cost\u001b[0m \u001b[0;34m=\u001b[0m \u001b[0msum\u001b[0m\u001b[0;34m(\u001b[0m\u001b[0mtransfer_out_decisions\u001b[0m\u001b[0;34m[\u001b[0m\u001b[0mi\u001b[0m\u001b[0;34m]\u001b[0m \u001b[0;34m*\u001b[0m \u001b[0msell_prices\u001b[0m\u001b[0;34m[\u001b[0m\u001b[0mi\u001b[0m\u001b[0;34m]\u001b[0m \u001b[0;32mfor\u001b[0m \u001b[0mi\u001b[0m \u001b[0;32min\u001b[0m \u001b[0mrange\u001b[0m\u001b[0;34m(\u001b[0m\u001b[0mnum_players\u001b[0m\u001b[0;34m)\u001b[0m\u001b[0;34m)\u001b[0m\u001b[0;34m\u001b[0m\u001b[0;34m\u001b[0m\u001b[0m\n\u001b[1;32m     61\u001b[0m \u001b[0;34m\u001b[0m\u001b[0m\n",
      "\u001b[0;31mIndexError\u001b[0m: index 100 is out of bounds for axis 0 with size 100"
     ]
    }
   ],
   "source": [
    "optimise_transfers(current_team_indices, expected_scores, buy_prices, sell_prices, positions, clubs, budget_now)"
   ]
  },
  {
   "cell_type": "markdown",
   "metadata": {},
   "source": [
    "Let's apply this to my current team, again using a very simple player score forecast."
   ]
  },
  {
   "cell_type": "code",
   "execution_count": 99,
   "metadata": {},
   "outputs": [
    {
     "data": {
      "text/html": [
       "<div>\n",
       "<style scoped>\n",
       "    .dataframe tbody tr th:only-of-type {\n",
       "        vertical-align: middle;\n",
       "    }\n",
       "\n",
       "    .dataframe tbody tr th {\n",
       "        vertical-align: top;\n",
       "    }\n",
       "\n",
       "    .dataframe thead th {\n",
       "        text-align: right;\n",
       "    }\n",
       "</style>\n",
       "<table border=\"1\" class=\"dataframe\">\n",
       "  <thead>\n",
       "    <tr style=\"text-align: right;\">\n",
       "      <th></th>\n",
       "      <th>first_name</th>\n",
       "      <th>second_name</th>\n",
       "      <th>total_points</th>\n",
       "      <th>team_code</th>\n",
       "      <th>element_type</th>\n",
       "      <th>now_cost</th>\n",
       "      <th>id</th>\n",
       "      <th>total_points_last_season</th>\n",
       "    </tr>\n",
       "  </thead>\n",
       "  <tbody>\n",
       "    <tr>\n",
       "      <th>0</th>\n",
       "      <td>Shkodran</td>\n",
       "      <td>Mustafi</td>\n",
       "      <td>0</td>\n",
       "      <td>3</td>\n",
       "      <td>2</td>\n",
       "      <td>55</td>\n",
       "      <td>1</td>\n",
       "      <td>80</td>\n",
       "    </tr>\n",
       "    <tr>\n",
       "      <th>1</th>\n",
       "      <td>Héctor</td>\n",
       "      <td>Bellerín</td>\n",
       "      <td>0</td>\n",
       "      <td>3</td>\n",
       "      <td>2</td>\n",
       "      <td>55</td>\n",
       "      <td>2</td>\n",
       "      <td>60</td>\n",
       "    </tr>\n",
       "    <tr>\n",
       "      <th>2</th>\n",
       "      <td>Sead</td>\n",
       "      <td>Kolasinac</td>\n",
       "      <td>0</td>\n",
       "      <td>3</td>\n",
       "      <td>2</td>\n",
       "      <td>55</td>\n",
       "      <td>3</td>\n",
       "      <td>81</td>\n",
       "    </tr>\n",
       "    <tr>\n",
       "      <th>3</th>\n",
       "      <td>Ainsley</td>\n",
       "      <td>Maitland-Niles</td>\n",
       "      <td>12</td>\n",
       "      <td>3</td>\n",
       "      <td>2</td>\n",
       "      <td>50</td>\n",
       "      <td>4</td>\n",
       "      <td>34</td>\n",
       "    </tr>\n",
       "    <tr>\n",
       "      <th>4</th>\n",
       "      <td>Sokratis</td>\n",
       "      <td>Papastathopoulos</td>\n",
       "      <td>8</td>\n",
       "      <td>3</td>\n",
       "      <td>2</td>\n",
       "      <td>50</td>\n",
       "      <td>5</td>\n",
       "      <td>64</td>\n",
       "    </tr>\n",
       "  </tbody>\n",
       "</table>\n",
       "</div>"
      ],
      "text/plain": [
       "  first_name       second_name  total_points  team_code  element_type  \\\n",
       "0   Shkodran           Mustafi             0          3             2   \n",
       "1     Héctor          Bellerín             0          3             2   \n",
       "2       Sead         Kolasinac             0          3             2   \n",
       "3    Ainsley    Maitland-Niles            12          3             2   \n",
       "4   Sokratis  Papastathopoulos             8          3             2   \n",
       "\n",
       "   now_cost  id  total_points_last_season  \n",
       "0        55   1                        80  \n",
       "1        55   2                        60  \n",
       "2        55   3                        81  \n",
       "3        50   4                        34  \n",
       "4        50   5                        64  "
      ]
     },
     "execution_count": 99,
     "metadata": {},
     "output_type": "execute_result"
    }
   ],
   "source": [
    "import pandas as pd\n",
    "df = pd.read_csv(\n",
    "    \"https://raw.githubusercontent.com/vaastav/Fantasy-Premier-League/master/data/2019-20/players_raw.csv\"\n",
    ")\n",
    "df2 = pd.read_csv(\n",
    "    \"https://raw.githubusercontent.com/vaastav/Fantasy-Premier-League/f0cd9a537e4daff00a9a8b0d8019bc4e28da94d3/data/2019-20/players_raw.csv\"\n",
    ")\n",
    "df = pd.merge(df[[\"first_name\", \"second_name\", \"total_points\", \"team_code\", \"element_type\", \"now_cost\", \"id\"]],\n",
    "              df2[[\"id\", \"total_points\"]],\n",
    "              on=\"id\", suffixes=[\"\", \"_last_season\"])\n",
    "df.head()"
   ]
  },
  {
   "cell_type": "code",
   "execution_count": 100,
   "metadata": {},
   "outputs": [
    {
     "data": {
      "text/plain": [
       "0      2.105263\n",
       "1      1.578947\n",
       "2      2.131579\n",
       "3      0.894737\n",
       "4      1.684211\n",
       "5      2.026316\n",
       "6      1.631579\n",
       "7      0.078947\n",
       "8      0.105263\n",
       "9      0.631579\n",
       "10     5.394737\n",
       "11     4.368421\n",
       "12     0.263158\n",
       "13     2.789474\n",
       "14     2.342105\n",
       "15     2.578947\n",
       "16     2.368421\n",
       "17     2.052632\n",
       "18     0.263158\n",
       "19     1.236842\n",
       "20     4.315789\n",
       "21     0.000000\n",
       "22     1.578947\n",
       "23     0.000000\n",
       "24     0.000000\n",
       "25     0.000000\n",
       "26     0.105263\n",
       "27     0.000000\n",
       "28     0.000000\n",
       "29     0.000000\n",
       "         ...   \n",
       "492    2.605263\n",
       "493    0.236842\n",
       "494    0.657895\n",
       "495    0.000000\n",
       "496    1.131579\n",
       "497    0.000000\n",
       "498    0.000000\n",
       "499    0.000000\n",
       "500    3.789474\n",
       "501    2.710526\n",
       "502    2.473684\n",
       "503    2.342105\n",
       "504    3.157895\n",
       "505    0.631579\n",
       "506    1.236842\n",
       "507    0.026316\n",
       "508    4.763158\n",
       "509    3.657895\n",
       "510    3.105263\n",
       "511    0.184211\n",
       "512    0.026316\n",
       "513    2.736842\n",
       "514    3.131579\n",
       "515    0.973684\n",
       "516    1.157895\n",
       "517    1.368421\n",
       "518    1.263158\n",
       "519    1.263158\n",
       "520    0.000000\n",
       "521    0.000000\n",
       "Name: total_points_last_season, Length: 522, dtype: float64"
      ]
     },
     "execution_count": 100,
     "metadata": {},
     "output_type": "execute_result"
    }
   ],
   "source": [
    "old_expected_scores"
   ]
  },
  {
   "cell_type": "code",
   "execution_count": 105,
   "metadata": {},
   "outputs": [
    {
     "name": "stdout",
     "output_type": "stream",
     "text": [
      "Total expected score = 62.73684210526316\n"
     ]
    }
   ],
   "source": [
    "old_expected_scores = df[\"total_points_last_season\"] / 38\n",
    "new_expected_scores = (0.9*old_expected_scores + df[\"total_points\"]*0.1).fillna(0)  # weighted average points from last season and points last week\n",
    "prices = df[\"now_cost\"] / 10\n",
    "positions = df[\"element_type\"]\n",
    "clubs = df[\"team_code\"]\n",
    "# so we can read the results\n",
    "names = df[\"first_name\"] + \" \" + df[\"second_name\"]\n",
    "# retrieve the team I picked last week\n",
    "decisions, captain_decisions, sub_decisions = select_team(old_expected_scores.values, prices.values, positions.values, clubs.values)"
   ]
  },
  {
   "cell_type": "code",
   "execution_count": 106,
   "metadata": {},
   "outputs": [
    {
     "name": "stdout",
     "output_type": "stream",
     "text": [
      "David Luiz Moreira Marinho\n",
      "Ryan Fraser\n",
      "Luka Milivojevic\n",
      "Lucas Digne\n",
      "Gylfi Sigurdsson\n",
      "Andrew Robertson\n",
      "Virgil van Dijk\n",
      "Mohamed Salah\n",
      "Aymeric Laporte\n",
      "Ederson Santana de Moraes\n",
      "Raúl Jiménez\n"
     ]
    },
    {
     "data": {
      "text/plain": [
       "[20, 72, 171, 183, 193, 234, 236, 244, 256, 265, 508]"
      ]
     },
     "execution_count": 106,
     "metadata": {},
     "output_type": "execute_result"
    }
   ],
   "source": [
    "player_indices = []\n",
    "for i in range(len(decisions)):\n",
    "    if decisions[i].value() == 1:\n",
    "        print(names[i])\n",
    "        player_indices.append(i)\n",
    "player_indices"
   ]
  },
  {
   "cell_type": "code",
   "execution_count": 107,
   "metadata": {},
   "outputs": [
    {
     "name": "stdout",
     "output_type": "stream",
     "text": [
      "Transferred out: 20 6.0 3.8842105263157896\n",
      "Transferred in: 208 6.0 4.3578947368421055\n"
     ]
    }
   ],
   "source": [
    "optimise_transfers(player_indices, new_expected_scores, prices, prices, positions, clubs, budget_now=0)"
   ]
  },
  {
   "cell_type": "code",
   "execution_count": 109,
   "metadata": {},
   "outputs": [
    {
     "data": {
      "text/plain": [
       "first_name                  Ricardo Domingos\n",
       "second_name                  Barbosa Pereira\n",
       "total_points                               9\n",
       "team_code                                 13\n",
       "element_type                               2\n",
       "now_cost                                  60\n",
       "id                                       159\n",
       "total_points_last_season                 146\n",
       "Name: 208, dtype: object"
      ]
     },
     "execution_count": 109,
     "metadata": {},
     "output_type": "execute_result"
    }
   ],
   "source": [
    "df.loc[208]"
   ]
  },
  {
   "cell_type": "code",
   "execution_count": null,
   "metadata": {},
   "outputs": [],
   "source": []
  },
  {
   "cell_type": "code",
   "execution_count": null,
   "metadata": {},
   "outputs": [],
   "source": []
  }
 ],
 "metadata": {
  "kernelspec": {
   "display_name": "Python 3",
   "language": "python",
   "name": "python3"
  },
  "language_info": {
   "codemirror_mode": {
    "name": "ipython",
    "version": 3
   },
   "file_extension": ".py",
   "mimetype": "text/x-python",
   "name": "python",
   "nbconvert_exporter": "python",
   "pygments_lexer": "ipython3",
   "version": "3.6.8"
  }
 },
 "nbformat": 4,
 "nbformat_minor": 2
}
