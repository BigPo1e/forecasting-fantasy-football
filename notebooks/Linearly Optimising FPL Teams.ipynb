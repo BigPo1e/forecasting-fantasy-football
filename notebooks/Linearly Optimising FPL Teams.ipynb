{
 "cells": [
  {
   "cell_type": "code",
   "execution_count": 1,
   "metadata": {},
   "outputs": [
    {
     "data": {
      "text/markdown": [
       "*some markdown* $\\phi$"
      ],
      "text/plain": [
       "<IPython.core.display.Markdown object>"
      ]
     },
     "metadata": {},
     "output_type": "display_data"
    }
   ],
   "source": [
    "from IPython.display import display, Markdown, Latex\n",
    "display(Markdown('*some markdown* $\\phi$'))"
   ]
  },
  {
   "cell_type": "markdown",
   "metadata": {},
   "source": [
    "# (Linearly) Optimising Fantasy Premier League Teams "
   ]
  },
  {
   "cell_type": "markdown",
   "metadata": {},
   "source": [
    "I've been messing around with forecasting and optimisation tools for the fantasy premier league game for a few years. It's a really rich problem and I've more than once transferred tools from FPL to real-world projects.\n",
    "\n",
    "Being good at fantasy football may seem to be all about accurately predicting player performances, however even with perfect forecasts, the problem of selecting the optimal team is not easy -- mostly you decide on a bunch of players, shuffle them in and out of the team until you get the budget right. Introducing strategies involving transfers over several weeks adds another layer of complexity.\n",
    "\n",
    "In this post, I will show how to optimally select an FPL team given perfect player score forecasts. Later posts will address transfer strategies, ways to correctly deal with forecast uncertainties, how to construct useful forecasts and how they interact with team optimisation."
   ]
  },
  {
   "cell_type": "markdown",
   "metadata": {},
   "source": [
    "In this post I'm going to show you how to select optimal Fantasy Premier League teams using a type of simple constrained optimisation called a linear program. I first saw someone try this in a Reddit post a few years ago, so credit to whoever wrote it.\n",
    "\n",
    "## Linear Programming\n",
    "A linear program allows the efficient exact optimisation of a objective function subject to constraints, **where the objective function and the constraints are linear in the decision variables**. This is a really broad class of problems, and these things are used all over the place.\n",
    "\n",
    "The beautiful thing about an LP is that once you've managed to write down a linear objective and constraints, you've already finished. Just plug it into a solver and wait for your Nobel prize / acquisition by Google."
   ]
  },
  {
   "cell_type": "markdown",
   "metadata": {},
   "source": [
    "## An Example\n",
    "\n",
    "An example of an integer linear program is as follows:\n",
    "\n",
    "**objective function**:\n",
    "\n",
    "$F = \\sum_{i=0}^{N}x_i V_i$\n",
    "\n",
    "**constraints**:\n",
    "\n",
    "$\\sum_{i=0}^{N}x_i C_i \\le 100$\n",
    "\n",
    "$\\sum_{i=0}^{N}x_i \\le 10$\n",
    "\n",
    "This describes the following problem:\n",
    "There are $N$ different items in a shop, each with an associated cost $C_i$ and value $V_i$. We indicate whether we buy each item or not with a binary variable $x_i$, so we have 100 variables in total. We want to maximise the total value of the items we buy. However:\n",
    "1. we can only spend 100 pounds\n",
    "2. we can only buy up to 10 items\n",
    "\n",
    "## PuLP\n",
    "\n",
    "PuLP is a linear programming library in Python. It allows you to write down an objective function and constraints in a very intuitive way and instantly solve them. Let's see an example with the above problem."
   ]
  },
  {
   "cell_type": "code",
   "execution_count": 2,
   "metadata": {},
   "outputs": [
    {
     "name": "stdout",
     "output_type": "stream",
     "text": [
      "6 8.341428313257937 9.100268198102812\n",
      "35 13.600960205648033 14.934066372309184\n",
      "39 13.69133612534416 15.0583982150792\n",
      "42 11.376117487345171 12.454501311848414\n",
      "54 5.5834232434849005 6.126090499083039\n",
      "60 11.948450673927253 12.930444994011147\n",
      "70 17.81557727312878 19.376777977556543\n",
      "83 5.223790414247662 5.58954351922558\n",
      "92 12.377265233550922 13.613949258480199\n"
     ]
    }
   ],
   "source": [
    "import pulp\n",
    "import numpy as np\n",
    "\n",
    "# random fake data for costs and values\n",
    "costs = np.random.uniform(low=5, high=20, size=100)\n",
    "values = costs * np.random.uniform(low=0.9, high=1.1, size=100)\n",
    "\n",
    "model = pulp.LpProblem(\"Constrained value maximisation\", pulp.LpMaximize)\n",
    "decisions = [pulp.LpVariable(\"x{}\".format(i), lowBound=0, upBound=1, cat='Integer')\n",
    "             for i in range(100)]\n",
    "\n",
    "# PuLP has a slightly weird syntax, but it's great. This is how to add the objective function:\n",
    "model += sum(decisions[i] * values[i] for i in range(100)), \"Objective\"\n",
    "\n",
    "# and here are the constraints\n",
    "model += sum(decisions[i] * costs[i] for i in range(100)) <= 100  # total cost\n",
    "model += sum(decisions) <= 10  # total items\n",
    "\n",
    "model.solve()\n",
    "\n",
    "# print results\n",
    "for i in range(100):\n",
    "    if decisions[i].value() == 1:\n",
    "        print(i, costs[i], values[i])"
   ]
  },
  {
   "cell_type": "markdown",
   "metadata": {},
   "source": [
    "## Picking a Fantasy Premier League Team"
   ]
  },
  {
   "cell_type": "markdown",
   "metadata": {},
   "source": [
    "We are now going to apply the same techniques to solve a simplified team selection task. The simplifications we will make are as follows:\n",
    "\n",
    "* No substitutes\n",
    "* No transfers\n",
    "* Assume we have perfect forecasts\n",
    "\n",
    "We can address some of these simplifications later. We need to add the following features:\n",
    "\n",
    "* Formation constraints: max and min number of players in each position\n",
    "* Team constraints: max 3 players from each club\n",
    "* Captaincy: extra decision array for picking a captain, with associated cost function contribution and constraints.\n",
    "\n",
    "Let's write down the objective and constraints for this new problem.\n",
    "\n",
    "$F = \\sum_{i=0}^{N}(x_i + y_i) * V_i$\n",
    "\n",
    "Where $x_i$ is a binary decision indicating whether player $i$ is in the starting eleven, and $y_i$ indicates whether he is the captain. Here $V_i$ is the expected score for player $i$.\n",
    "\n",
    "constraints:\n",
    "1. $\\sum_{i=0}^{N}x_i * C_i \\le 100$\n",
    "2. $\\sum_{i=0}^{N}x_i \\le 11$\n",
    "3. $\\sum_{i=0}^{N}y_i = 1$\n",
    "4. $\\sum_{j \\in G}x_i = 1$\n",
    "5. $3 \\le \\sum_{j \\in D}x_j \\le 5$\n",
    "6. $3 \\le \\sum_{j \\in M}x_j \\le 5$\n",
    "7. $1 \\le \\sum_{j \\in F}x_j \\le 3$\n",
    "\n",
    "Where $G$, $D$, $M$ and $F$ are the sets of all goalkeepers, defenders, midfielders and forwards respectively.\n",
    "\n",
    "8. For each team $k$: $\\sum_{j \\in T_k}x_j \\le 3$, where $T_k$ is the set of all players on team $k$. I.e. you cannot select more than 3 players from each team.\n",
    "\n",
    "9. For each player $i$: $x_i - y_i = 0$\n",
    "\n",
    "This last set of constraints is a slightly awkward way of saying that the captain must also be on the team -- either $x_i$ and $y_i$ are both zero or both one. We apply this constraint to each player individual, which leads to several hundred constraints. This is a little messy, but it doesn't cause problems.\n",
    "\n",
    "If the above is a little confusing, hopefully it is clearer written as code:"
   ]
  },
  {
   "cell_type": "code",
   "execution_count": 3,
   "metadata": {},
   "outputs": [],
   "source": [
    "def select_team(expected_scores, prices, positions, clubs):\n",
    "    num_players = len(expected_scores)\n",
    "    model = pulp.LpProblem(\"Constrained value maximisation\", pulp.LpMaximize)\n",
    "    decisions = [\n",
    "        pulp.LpVariable(\"x{}\".format(i), lowBound=0, upBound=1, cat='Integer')\n",
    "        for i in range(num_players)\n",
    "    ]\n",
    "    captain_decisions = [\n",
    "        pulp.LpVariable(\"y{}\".format(i), lowBound=0, upBound=1, cat='Integer')\n",
    "        for i in range(num_players)\n",
    "    ]\n",
    "\n",
    "    # objective function:\n",
    "    model += sum((captain_decisions[i] + decisions[i]) * expected_scores[i]\n",
    "                 for i in range(num_players)), \"Objective\"\n",
    "\n",
    "    # cost constraint\n",
    "    model += sum(decisions[i] * prices[i] for i in range(num_players)) <= 100  # total cost\n",
    "    model += sum(decisions) == 11  # total team size\n",
    "\n",
    "    # position constraints\n",
    "    # 1 goalkeeper\n",
    "    model += sum(decisions[i] for i in range(num_players) if positions[i] == 1) == 1\n",
    "    # 3-5 defenders\n",
    "    model += sum(decisions[i] for i in range(num_players) if positions[i] == 2) >= 3\n",
    "    model += sum(decisions[i] for i in range(num_players) if positions[i] == 2) <= 5\n",
    "    # 3-5 midfielders\n",
    "    model += sum(decisions[i] for i in range(num_players) if positions[i] == 3) >= 3\n",
    "    model += sum(decisions[i] for i in range(num_players) if positions[i] == 3) <= 5\n",
    "    # 1-3 attackers\n",
    "    model += sum(decisions[i] for i in range(num_players) if positions[i] == 4) >= 1\n",
    "    model += sum(decisions[i] for i in range(num_players) if positions[i] == 4) <= 3\n",
    "\n",
    "    # club constraint\n",
    "    for club_id in np.unique(clubs):\n",
    "        model += sum(decisions[i] for i in range(num_players) if clubs[i] == club_id) <= 3  # max 3 players\n",
    "\n",
    "    model += sum(captain_decisions) == 1  # 1 captain\n",
    "    \n",
    "    for i in range(num_players):  # captain must also be on team\n",
    "        model += (decisions[i] - captain_decisions[i]) >= 0\n",
    "\n",
    "    model.solve()\n",
    "    return decisions, captain_decisions"
   ]
  },
  {
   "cell_type": "code",
   "execution_count": 4,
   "metadata": {},
   "outputs": [],
   "source": [
    "expected_scores = np.random.uniform(low=5, high=20, size=100)\n",
    "prices = expected_scores * np.random.uniform(low=0.9, high=1.1, size=100)\n",
    "positions = np.random.randint(1, 5, size=100)\n",
    "clubs = np.random.randint(0, 20, size=100)\n",
    "decisions, captain_decisions = select_team(expected_scores, prices, positions, clubs)"
   ]
  },
  {
   "cell_type": "code",
   "execution_count": 5,
   "metadata": {},
   "outputs": [
    {
     "name": "stdout",
     "output_type": "stream",
     "text": [
      "9 19.406470556707163 17.94236009164756\n",
      "11 5.359729723221568 5.2283965828963845\n",
      "13 6.877626149236996 6.33329927400512\n",
      "17 5.78826156620296 5.212946279060511\n",
      "43 17.460967462205332 15.8656021478448\n",
      "45 8.865567085015249 8.243248816622955\n",
      "50 9.099948237470958 8.42034937449553\n",
      "56 8.535987829149041 7.906212899047144\n",
      "60 9.65278204142739 8.839921233730426\n",
      "63 7.475365623821652 6.824007186371284\n",
      "64 9.867420753317024 9.028363634171647\n",
      "Captain:\n",
      "9 19.406470556707163 17.94236009164756\n"
     ]
    }
   ],
   "source": [
    "# print results\n",
    "for i in range(100):\n",
    "    if decisions[i].value() != 0:\n",
    "        print(i,  expected_scores[i], prices[i])\n",
    "\n",
    "print(\"Captain:\")\n",
    "# print results\n",
    "for i in range(100):\n",
    "    if captain_decisions[i].value() == 1:\n",
    "        print(i, expected_scores[i], prices[i])\n"
   ]
  },
  {
   "cell_type": "markdown",
   "metadata": {},
   "source": [
    "These fake players don't mean anything -- let's try this with real data.\n",
    "\n",
    "The FPL app allows you to access all player data through a number of API endpoints. For simplicity, we are using a ready-made data file from the archive collected by [vaastav](https://github.com/vaastav/Fantasy-Premier-League)."
   ]
  },
  {
   "cell_type": "code",
   "execution_count": 6,
   "metadata": {},
   "outputs": [
    {
     "data": {
      "text/html": [
       "<div>\n",
       "<style scoped>\n",
       "    .dataframe tbody tr th:only-of-type {\n",
       "        vertical-align: middle;\n",
       "    }\n",
       "\n",
       "    .dataframe tbody tr th {\n",
       "        vertical-align: top;\n",
       "    }\n",
       "\n",
       "    .dataframe thead th {\n",
       "        text-align: right;\n",
       "    }\n",
       "</style>\n",
       "<table border=\"1\" class=\"dataframe\">\n",
       "  <thead>\n",
       "    <tr style=\"text-align: right;\">\n",
       "      <th></th>\n",
       "      <th>web_name</th>\n",
       "      <th>total_points</th>\n",
       "      <th>team_code</th>\n",
       "      <th>element_type</th>\n",
       "      <th>now_cost</th>\n",
       "    </tr>\n",
       "  </thead>\n",
       "  <tbody>\n",
       "    <tr>\n",
       "      <th>0</th>\n",
       "      <td>Mustafi</td>\n",
       "      <td>80</td>\n",
       "      <td>3</td>\n",
       "      <td>2</td>\n",
       "      <td>55</td>\n",
       "    </tr>\n",
       "    <tr>\n",
       "      <th>1</th>\n",
       "      <td>Bellerín</td>\n",
       "      <td>60</td>\n",
       "      <td>3</td>\n",
       "      <td>2</td>\n",
       "      <td>55</td>\n",
       "    </tr>\n",
       "    <tr>\n",
       "      <th>2</th>\n",
       "      <td>Kolasinac</td>\n",
       "      <td>81</td>\n",
       "      <td>3</td>\n",
       "      <td>2</td>\n",
       "      <td>55</td>\n",
       "    </tr>\n",
       "    <tr>\n",
       "      <th>3</th>\n",
       "      <td>Maitland-Niles</td>\n",
       "      <td>34</td>\n",
       "      <td>3</td>\n",
       "      <td>2</td>\n",
       "      <td>50</td>\n",
       "    </tr>\n",
       "    <tr>\n",
       "      <th>4</th>\n",
       "      <td>Sokratis</td>\n",
       "      <td>64</td>\n",
       "      <td>3</td>\n",
       "      <td>2</td>\n",
       "      <td>50</td>\n",
       "    </tr>\n",
       "  </tbody>\n",
       "</table>\n",
       "</div>"
      ],
      "text/plain": [
       "         web_name  total_points  team_code  element_type  now_cost\n",
       "0         Mustafi            80          3             2        55\n",
       "1        Bellerín            60          3             2        55\n",
       "2       Kolasinac            81          3             2        55\n",
       "3  Maitland-Niles            34          3             2        50\n",
       "4        Sokratis            64          3             2        50"
      ]
     },
     "execution_count": 6,
     "metadata": {},
     "output_type": "execute_result"
    }
   ],
   "source": [
    "import pandas as pd\n",
    "df = pd.read_csv(\n",
    "    \"https://raw.githubusercontent.com/vaastav/Fantasy-Premier-League/master/data/2019-20/players_raw.csv\"\n",
    ")\n",
    "df[[\"web_name\", \"total_points\", \"team_code\", \"element_type\", \"now_cost\"]].head()"
   ]
  },
  {
   "cell_type": "markdown",
   "metadata": {},
   "source": [
    "We'll now solve a semi-useful problem:\n",
    "* Use the total points from the last season as a basic forecast of the total points for this season.\n",
    "* Pick the optimal team assuming this forecast is correct and transfers are not allowed.\n",
    "\n",
    "This should give a decent first team for the new season."
   ]
  },
  {
   "cell_type": "code",
   "execution_count": 7,
   "metadata": {},
   "outputs": [],
   "source": [
    "expected_scores = df[\"total_points\"]  # total points from last season\n",
    "prices = df[\"now_cost\"] / 10\n",
    "positions = df[\"element_type\"]\n",
    "clubs = df[\"team_code\"]\n",
    "# so we can read the results\n",
    "names = df[\"web_name\"]\n",
    "decisions, captain_decisions = select_team(expected_scores.values, prices.values, positions.values, clubs.values)"
   ]
  },
  {
   "cell_type": "code",
   "execution_count": 8,
   "metadata": {},
   "outputs": [
    {
     "data": {
      "text/markdown": [
       "**Aubameyang** Points = 205, Price = 11.0"
      ],
      "text/plain": [
       "<IPython.core.display.Markdown object>"
      ]
     },
     "metadata": {},
     "output_type": "display_data"
    },
    {
     "data": {
      "text/markdown": [
       "**David Luiz** Points = 164, Price = 6.0"
      ],
      "text/plain": [
       "<IPython.core.display.Markdown object>"
      ]
     },
     "metadata": {},
     "output_type": "display_data"
    },
    {
     "data": {
      "text/markdown": [
       "**Pickford** Points = 161, Price = 5.5"
      ],
      "text/plain": [
       "<IPython.core.display.Markdown object>"
      ]
     },
     "metadata": {},
     "output_type": "display_data"
    },
    {
     "data": {
      "text/markdown": [
       "**Sigurdsson** Points = 182, Price = 8.0"
      ],
      "text/plain": [
       "<IPython.core.display.Markdown object>"
      ]
     },
     "metadata": {},
     "output_type": "display_data"
    },
    {
     "data": {
      "text/markdown": [
       "**Robertson** Points = 213, Price = 7.0"
      ],
      "text/plain": [
       "<IPython.core.display.Markdown object>"
      ]
     },
     "metadata": {},
     "output_type": "display_data"
    },
    {
     "data": {
      "text/markdown": [
       "**Salah** Points = 259, Price = 12.5"
      ],
      "text/plain": [
       "<IPython.core.display.Markdown object>"
      ]
     },
     "metadata": {},
     "output_type": "display_data"
    },
    {
     "data": {
      "text/markdown": [
       "**Mané** Points = 231, Price = 11.5"
      ],
      "text/plain": [
       "<IPython.core.display.Markdown object>"
      ]
     },
     "metadata": {},
     "output_type": "display_data"
    },
    {
     "data": {
      "text/markdown": [
       "**Laporte** Points = 177, Price = 6.5"
      ],
      "text/plain": [
       "<IPython.core.display.Markdown object>"
      ]
     },
     "metadata": {},
     "output_type": "display_data"
    },
    {
     "data": {
      "text/markdown": [
       "**Agüero** Points = 201, Price = 12.0"
      ],
      "text/plain": [
       "<IPython.core.display.Markdown object>"
      ]
     },
     "metadata": {},
     "output_type": "display_data"
    },
    {
     "data": {
      "text/markdown": [
       "**Sterling** Points = 234, Price = 12.0"
      ],
      "text/plain": [
       "<IPython.core.display.Markdown object>"
      ]
     },
     "metadata": {},
     "output_type": "display_data"
    },
    {
     "data": {
      "text/markdown": [
       "**Jiménez** Points = 181, Price = 7.5"
      ],
      "text/plain": [
       "<IPython.core.display.Markdown object>"
      ]
     },
     "metadata": {},
     "output_type": "display_data"
    },
    {
     "data": {
      "text/markdown": [
       "**CAPTAIN: Salah** Points = 259, Price = 12.5"
      ],
      "text/plain": [
       "<IPython.core.display.Markdown object>"
      ]
     },
     "metadata": {},
     "output_type": "display_data"
    }
   ],
   "source": [
    "for i in range(df.shape[0]):\n",
    "    if decisions[i].value() != 0:\n",
    "        display(Markdown(\"**{}** Points = {}, Price = {}\".format(names[i], expected_scores[i], prices[i])))\n",
    "\n",
    "for i in range(df.shape[0]):\n",
    "    if captain_decisions[i].value() == 1:\n",
    "        (display(Markdown(\"**CAPTAIN: {}** Points = {}, Price = {}\".format(names[i], expected_scores[i], prices[i]))))\n"
   ]
  },
  {
   "cell_type": "code",
   "execution_count": 9,
   "metadata": {},
   "outputs": [
    {
     "data": {
      "text/plain": [
       "0       5.5\n",
       "1       5.5\n",
       "2       5.5\n",
       "3       5.0\n",
       "4       5.0\n",
       "5       5.0\n",
       "6       5.0\n",
       "7       4.5\n",
       "8       4.5\n",
       "9       4.5\n",
       "10     11.0\n",
       "11      9.5\n",
       "12      4.5\n",
       "13      5.0\n",
       "14      7.5\n",
       "15      7.0\n",
       "16      6.0\n",
       "17      5.5\n",
       "18      5.0\n",
       "19      4.5\n",
       "20      4.5\n",
       "21      4.5\n",
       "22      4.5\n",
       "23      5.5\n",
       "24      9.5\n",
       "25      5.5\n",
       "26      5.0\n",
       "27      4.5\n",
       "28      4.5\n",
       "29      4.5\n",
       "       ... \n",
       "481     5.0\n",
       "482     4.5\n",
       "483     4.5\n",
       "484     6.5\n",
       "485     4.5\n",
       "486     4.5\n",
       "487     7.5\n",
       "488     6.0\n",
       "489     6.0\n",
       "490     5.5\n",
       "491     5.0\n",
       "492     5.0\n",
       "493     5.0\n",
       "494     4.5\n",
       "495     4.5\n",
       "496     4.0\n",
       "497     7.5\n",
       "498     6.5\n",
       "499     5.0\n",
       "500     4.5\n",
       "501     4.0\n",
       "502     5.5\n",
       "503     5.5\n",
       "504     5.0\n",
       "505     5.0\n",
       "506     5.0\n",
       "507     5.0\n",
       "508     4.5\n",
       "509     5.0\n",
       "510     6.0\n",
       "Name: now_cost, Length: 511, dtype: float64"
      ]
     },
     "execution_count": 9,
     "metadata": {},
     "output_type": "execute_result"
    }
   ],
   "source": [
    "prices"
   ]
  },
  {
   "cell_type": "code",
   "execution_count": 10,
   "metadata": {},
   "outputs": [],
   "source": [
    "decisions, captain_decisions = select_team(expected_scores.values, prices.values, positions.values, clubs.values)"
   ]
  },
  {
   "cell_type": "markdown",
   "metadata": {},
   "source": [
    "Sadly we can't pick this team, since we also need to pay for subs. We can fudge subs into the model by treating them like regular players whose scores are reduced by a fudge factor."
   ]
  },
  {
   "cell_type": "code",
   "execution_count": 16,
   "metadata": {},
   "outputs": [],
   "source": [
    "def select_team(expected_scores, prices, positions, clubs, total_budget=100, sub_factor=0.2):\n",
    "    num_players = len(expected_scores)\n",
    "    model = pulp.LpProblem(\"Constrained value maximisation\", pulp.LpMaximize)\n",
    "    decisions = [\n",
    "        pulp.LpVariable(\"x{}\".format(i), lowBound=0, upBound=1, cat='Integer')\n",
    "        for i in range(num_players)\n",
    "    ]\n",
    "    captain_decisions = [\n",
    "        pulp.LpVariable(\"y{}\".format(i), lowBound=0, upBound=1, cat='Integer')\n",
    "        for i in range(num_players)\n",
    "    ]\n",
    "    sub_decisions = [\n",
    "        pulp.LpVariable(\"z{}\".format(i), lowBound=0, upBound=1, cat='Integer')\n",
    "        for i in range(num_players)\n",
    "    ]\n",
    "\n",
    "\n",
    "    # objective function:\n",
    "    model += sum((captain_decisions[i] + decisions[i] + sub_decisions[i]*sub_factor) * expected_scores[i]\n",
    "                 for i in range(num_players)), \"Objective\"\n",
    "\n",
    "    # cost constraint\n",
    "    model += sum((decisions[i] + sub_decisions[i]) * prices[i] for i in range(num_players)) <= total_budget  # total cost\n",
    "\n",
    "    # position constraints\n",
    "    # 1 starting goalkeeper\n",
    "    model += sum(decisions[i] for i in range(num_players) if positions[i] == 1) == 1\n",
    "    # 2 total goalkeepers\n",
    "    model += sum(decisions[i] + sub_decisions[i] for i in range(num_players) if positions[i] == 1) == 2\n",
    "\n",
    "    # 3-5 starting defenders\n",
    "    model += sum(decisions[i] for i in range(num_players) if positions[i] == 2) >= 3\n",
    "    model += sum(decisions[i] for i in range(num_players) if positions[i] == 2) <= 5\n",
    "    # 5 total defenders\n",
    "    model += sum(decisions[i] + sub_decisions[i] for i in range(num_players) if positions[i] == 2) == 5\n",
    "\n",
    "    # 3-5 starting midfielders\n",
    "    model += sum(decisions[i] for i in range(num_players) if positions[i] == 3) >= 3\n",
    "    model += sum(decisions[i] for i in range(num_players) if positions[i] == 3) <= 5\n",
    "    # 5 total midfielders\n",
    "    model += sum(decisions[i] + sub_decisions[i] for i in range(num_players) if positions[i] == 3) == 5\n",
    "\n",
    "    # 1-3 starting attackers\n",
    "    model += sum(decisions[i] for i in range(num_players) if positions[i] == 4) >= 1\n",
    "    model += sum(decisions[i] for i in range(num_players) if positions[i] == 4) <= 3\n",
    "    # 3 total attackers\n",
    "    model += sum(decisions[i] + sub_decisions[i] for i in range(num_players) if positions[i] == 4) == 3\n",
    "\n",
    "    # club constraint\n",
    "    for club_id in np.unique(clubs):\n",
    "        model += sum(decisions[i] + sub_decisions[i] for i in range(num_players) if clubs[i] == club_id) <= 3  # max 3 players\n",
    "\n",
    "    model += sum(decisions) == 11  # total team size\n",
    "    model += sum(captain_decisions) == 1  # 1 captain\n",
    "    \n",
    "    for i in range(num_players):  \n",
    "        model += (decisions[i] - captain_decisions[i]) >= 0  # captain must also be on team\n",
    "        model += (decisions[i] + sub_decisions[i]) <= 1  # subs must not be on team\n",
    "\n",
    "    model.solve()\n",
    "    print(\"Total expected score = {}\".format(model.objective.value()))\n",
    "\n",
    "    return decisions, captain_decisions, sub_decisions"
   ]
  },
  {
   "cell_type": "code",
   "execution_count": 17,
   "metadata": {},
   "outputs": [
    {
     "name": "stdout",
     "output_type": "stream",
     "text": [
      "Total expected score = 2383.9999999999995\n"
     ]
    },
    {
     "data": {
      "text/markdown": [
       "**Fraser** Points = 181, Price = 7.5"
      ],
      "text/plain": [
       "<IPython.core.display.Markdown object>"
      ]
     },
     "metadata": {},
     "output_type": "display_data"
    },
    {
     "data": {
      "text/markdown": [
       "**David Luiz** Points = 164, Price = 6.0"
      ],
      "text/plain": [
       "<IPython.core.display.Markdown object>"
      ]
     },
     "metadata": {},
     "output_type": "display_data"
    },
    {
     "data": {
      "text/markdown": [
       "**Milivojevic** Points = 166, Price = 7.0"
      ],
      "text/plain": [
       "<IPython.core.display.Markdown object>"
      ]
     },
     "metadata": {},
     "output_type": "display_data"
    },
    {
     "data": {
      "text/markdown": [
       "**Digne** Points = 158, Price = 6.0"
      ],
      "text/plain": [
       "<IPython.core.display.Markdown object>"
      ]
     },
     "metadata": {},
     "output_type": "display_data"
    },
    {
     "data": {
      "text/markdown": [
       "**Sigurdsson** Points = 182, Price = 8.0"
      ],
      "text/plain": [
       "<IPython.core.display.Markdown object>"
      ]
     },
     "metadata": {},
     "output_type": "display_data"
    },
    {
     "data": {
      "text/markdown": [
       "**Robertson** Points = 213, Price = 7.0"
      ],
      "text/plain": [
       "<IPython.core.display.Markdown object>"
      ]
     },
     "metadata": {},
     "output_type": "display_data"
    },
    {
     "data": {
      "text/markdown": [
       "**van Dijk** Points = 208, Price = 6.5"
      ],
      "text/plain": [
       "<IPython.core.display.Markdown object>"
      ]
     },
     "metadata": {},
     "output_type": "display_data"
    },
    {
     "data": {
      "text/markdown": [
       "**Salah** Points = 259, Price = 12.5"
      ],
      "text/plain": [
       "<IPython.core.display.Markdown object>"
      ]
     },
     "metadata": {},
     "output_type": "display_data"
    },
    {
     "data": {
      "text/markdown": [
       "**Laporte** Points = 177, Price = 6.5"
      ],
      "text/plain": [
       "<IPython.core.display.Markdown object>"
      ]
     },
     "metadata": {},
     "output_type": "display_data"
    },
    {
     "data": {
      "text/markdown": [
       "**Ederson** Points = 169, Price = 6.0"
      ],
      "text/plain": [
       "<IPython.core.display.Markdown object>"
      ]
     },
     "metadata": {},
     "output_type": "display_data"
    },
    {
     "data": {
      "text/markdown": [
       "**Jiménez** Points = 181, Price = 7.5"
      ],
      "text/plain": [
       "<IPython.core.display.Markdown object>"
      ]
     },
     "metadata": {},
     "output_type": "display_data"
    },
    {
     "name": "stdout",
     "output_type": "stream",
     "text": [
      "\n",
      "Subs:\n"
     ]
    },
    {
     "data": {
      "text/markdown": [
       "**Nketiah** Points = 10, Price = 4.5"
      ],
      "text/plain": [
       "<IPython.core.display.Markdown object>"
      ]
     },
     "metadata": {},
     "output_type": "display_data"
    },
    {
     "data": {
      "text/markdown": [
       "**Kanté** Points = 116, Price = 5.0"
      ],
      "text/plain": [
       "<IPython.core.display.Markdown object>"
      ]
     },
     "metadata": {},
     "output_type": "display_data"
    },
    {
     "data": {
      "text/markdown": [
       "**Long** Points = 66, Price = 5.0"
      ],
      "text/plain": [
       "<IPython.core.display.Markdown object>"
      ]
     },
     "metadata": {},
     "output_type": "display_data"
    },
    {
     "data": {
      "text/markdown": [
       "**Fabianski** Points = 143, Price = 5.0"
      ],
      "text/plain": [
       "<IPython.core.display.Markdown object>"
      ]
     },
     "metadata": {},
     "output_type": "display_data"
    },
    {
     "name": "stdout",
     "output_type": "stream",
     "text": [
      "\n",
      "Captain:\n"
     ]
    },
    {
     "data": {
      "text/markdown": [
       "**Salah** Points = 259, Price = 12.5"
      ],
      "text/plain": [
       "<IPython.core.display.Markdown object>"
      ]
     },
     "metadata": {},
     "output_type": "display_data"
    }
   ],
   "source": [
    "decisions, captain_decisions, sub_decisions = select_team(expected_scores.values, prices.values, positions.values, clubs.values)\n",
    "# print results\n",
    "for i in range(df.shape[0]):\n",
    "    if decisions[i].value() != 0:\n",
    "        display(Markdown(\"**{}** Points = {}, Price = {}\".format(names[i], expected_scores[i], prices[i])))\n",
    "print()\n",
    "print(\"Subs:\")\n",
    "# print results\n",
    "for i in range(df.shape[0]):\n",
    "    if sub_decisions[i].value() == 1:\n",
    "        display(Markdown(\"**{}** Points = {}, Price = {}\".format(names[i], expected_scores[i], prices[i])))\n",
    "\n",
    "print()\n",
    "print(\"Captain:\")\n",
    "# print results\n",
    "for i in range(df.shape[0]):\n",
    "    if captain_decisions[i].value() == 1:\n",
    "        display(Markdown(\"**{}** Points = {}, Price = {}\".format(names[i], expected_scores[i], prices[i])))\n"
   ]
  },
  {
   "cell_type": "markdown",
   "metadata": {},
   "source": [
    "If we think the subs are too expensive, we can play with the sub factor:"
   ]
  },
  {
   "cell_type": "code",
   "execution_count": 13,
   "metadata": {},
   "outputs": [
    {
     "name": "stdout",
     "output_type": "stream",
     "text": [
      "Total expected score = 2350.5\n",
      "Fraser 181 7.5\n",
      "Azpilicueta 158 6.0\n",
      "David Luiz 164 6.0\n",
      "Milivojevic 166 7.0\n",
      "Sigurdsson 182 8.0\n",
      "Robertson 213 7.0\n",
      "van Dijk 208 6.5\n",
      "Salah 259 12.5\n",
      "Laporte 177 6.5\n",
      "Ederson 169 6.0\n",
      "Jiménez 181 7.5\n",
      "\n",
      "Subs:\n",
      "Nketiah 10 4.5\n",
      "Kanté 116 5.0\n",
      "Long 66 5.0\n",
      "Fabianski 143 5.0\n",
      "\n",
      "Captain:\n",
      "Salah 259 12.5\n"
     ]
    }
   ],
   "source": [
    "decisions, captain_decisions, sub_decisions = select_team(expected_scores.values, prices.values,\n",
    "                                                          positions.values, clubs.values,\n",
    "                                                          sub_factor=0.2)\n",
    "# print results\n",
    "for i in range(df.shape[0]):\n",
    "    if decisions[i].value() != 0:\n",
    "        print(names[i], expected_scores[i], prices[i])\n",
    "print()\n",
    "print(\"Subs:\")\n",
    "# print results\n",
    "for i in range(df.shape[0]):\n",
    "    if sub_decisions[i].value() == 1:\n",
    "        print(names[i], expected_scores[i], prices[i])\n",
    "\n",
    "print()\n",
    "print(\"Captain:\")\n",
    "# print results\n",
    "for i in range(df.shape[0]):\n",
    "    if captain_decisions[i].value() == 1:\n",
    "        print(names[i], expected_scores[i], prices[i])\n"
   ]
  },
  {
   "cell_type": "code",
   "execution_count": null,
   "metadata": {},
   "outputs": [],
   "source": []
  },
  {
   "cell_type": "code",
   "execution_count": null,
   "metadata": {},
   "outputs": [],
   "source": []
  },
  {
   "cell_type": "code",
   "execution_count": null,
   "metadata": {},
   "outputs": [],
   "source": []
  }
 ],
 "metadata": {
  "kernelspec": {
   "display_name": "Python 3",
   "language": "python",
   "name": "python3"
  },
  "language_info": {
   "codemirror_mode": {
    "name": "ipython",
    "version": 3
   },
   "file_extension": ".py",
   "mimetype": "text/x-python",
   "name": "python",
   "nbconvert_exporter": "python",
   "pygments_lexer": "ipython3",
   "version": "3.6.8"
  }
 },
 "nbformat": 4,
 "nbformat_minor": 2
}
