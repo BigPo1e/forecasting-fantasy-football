{
 "cells": [
  {
   "cell_type": "code",
   "execution_count": 1,
   "metadata": {},
   "outputs": [],
   "source": [
    "import sys\n",
    "sys.path.append(\"../\")"
   ]
  },
  {
   "cell_type": "code",
   "execution_count": 2,
   "metadata": {},
   "outputs": [],
   "source": [
    "import pandas as pd\n",
    "df = pd.read_csv(\n",
    "    \"https://raw.githubusercontent.com/vaastav/Fantasy-Premier-League/master/data/2019-20/players_raw.csv\"\n",
    ")\n",
    "df2 = pd.read_csv(\n",
    "    \"https://raw.githubusercontent.com/vaastav/Fantasy-Premier-League/f0cd9a537e4daff00a9a8b0d8019bc4e28da94d3/data/2019-20/players_raw.csv\"\n",
    ")\n",
    "df = pd.merge(df[[\"first_name\", \"second_name\", \"total_points\", \"team_code\", \"element_type\", \"now_cost\", \"id\"]],\n",
    "              df2[[\"id\", \"total_points\"]],\n",
    "              on=\"id\", suffixes=[\"\", \"_last_season\"])\n",
    "df.head()\n",
    "\n",
    "old_expected_scores = df[\"total_points_last_season\"] / 38\n",
    "new_expected_scores = (0.9*old_expected_scores + df[\"total_points\"]*0.1).fillna(0)  # weighted average points from last season and points last week\n",
    "prices = df[\"now_cost\"] / 10\n",
    "positions = df[\"element_type\"]\n",
    "clubs = df[\"team_code\"]\n",
    "# so we can read the results\n",
    "names = df[\"first_name\"] + \" \" + df[\"second_name\"]\n",
    "# retrieve the team I picked last week"
   ]
  },
  {
   "cell_type": "code",
   "execution_count": 3,
   "metadata": {},
   "outputs": [],
   "source": [
    "from fpl_opt.models import TransferOptimiser, select_team"
   ]
  },
  {
   "cell_type": "code",
   "execution_count": 4,
   "metadata": {},
   "outputs": [],
   "source": [
    "opt = TransferOptimiser(new_expected_scores, prices, prices, positions, clubs)"
   ]
  },
  {
   "cell_type": "code",
   "execution_count": 5,
   "metadata": {},
   "outputs": [
    {
     "name": "stdout",
     "output_type": "stream",
     "text": [
      "Total expected score = 62.73684210526316\n",
      "David Luiz Moreira Marinho\n",
      "Ryan Fraser\n",
      "Luka Milivojevic\n",
      "Lucas Digne\n",
      "Gylfi Sigurdsson\n",
      "Andrew Robertson\n",
      "Virgil van Dijk\n",
      "Mohamed Salah\n",
      "Aymeric Laporte\n",
      "Ederson Santana de Moraes\n",
      "Raúl Jiménez\n",
      "Edward Nketiah\n",
      "N'Golo Kanté\n",
      "Shane Long\n",
      "Lukasz Fabianski\n",
      "Mohamed Salah\n"
     ]
    },
    {
     "data": {
      "text/plain": [
       "([20, 72, 171, 183, 193, 234, 236, 244, 256, 265, 508],\n",
       " [12, 150, 398, 484],\n",
       " [244])"
      ]
     },
     "execution_count": 5,
     "metadata": {},
     "output_type": "execute_result"
    }
   ],
   "source": [
    "decisions, captain_decisions, sub_decisions = select_team(old_expected_scores.values, prices.values, positions.values, clubs.values)\n",
    "player_indices = []\n",
    "for i in range(len(decisions)):\n",
    "    if decisions[i].value() == 1:\n",
    "        print(names[i])\n",
    "        player_indices.append(i)\n",
    "\n",
    "sub_indices = []\n",
    "for i in range(len(sub_decisions)):\n",
    "    if sub_decisions[i].value() == 1:\n",
    "        print(names[i])\n",
    "        sub_indices.append(i)\n",
    "\n",
    "captain_indices = []\n",
    "for i in range(len(captain_decisions)):\n",
    "    if captain_decisions[i].value() == 1:\n",
    "        print(names[i])\n",
    "        captain_indices.append(i)\n",
    "\n",
    "player_indices, sub_indices, captain_indices"
   ]
  },
  {
   "cell_type": "code",
   "execution_count": 6,
   "metadata": {},
   "outputs": [
    {
     "ename": "KeyError",
     "evalue": "'min_starters'",
     "output_type": "error",
     "traceback": [
      "\u001b[0;31m---------------------------------------------------------------------------\u001b[0m",
      "\u001b[0;31mKeyError\u001b[0m                                  Traceback (most recent call last)",
      "\u001b[0;32m<ipython-input-6-de581bf53238>\u001b[0m in \u001b[0;36m<module>\u001b[0;34m\u001b[0m\n\u001b[0;32m----> 1\u001b[0;31m \u001b[0mopt\u001b[0m\u001b[0;34m.\u001b[0m\u001b[0msolve\u001b[0m\u001b[0;34m(\u001b[0m\u001b[0mplayer_indices\u001b[0m\u001b[0;34m,\u001b[0m \u001b[0msub_indices\u001b[0m\u001b[0;34m,\u001b[0m \u001b[0mcaptain_indices\u001b[0m\u001b[0;34m,\u001b[0m \u001b[0mbudget_now\u001b[0m\u001b[0;34m=\u001b[0m\u001b[0;36m0\u001b[0m\u001b[0;34m,\u001b[0m \u001b[0msub_factor\u001b[0m\u001b[0;34m=\u001b[0m\u001b[0;36m0.1\u001b[0m\u001b[0;34m)\u001b[0m\u001b[0;34m\u001b[0m\u001b[0;34m\u001b[0m\u001b[0m\n\u001b[0m",
      "\u001b[0;32m~/forecasting-fantasy-football/fpl_opt/models.py\u001b[0m in \u001b[0;36msolve\u001b[0;34m(self, current_team_indices, current_sub_indices, current_captain_indices, budget_now, sub_factor)\u001b[0m\n\u001b[1;32m     62\u001b[0m         \u001b[0mnext_week_subs\u001b[0m \u001b[0;34m=\u001b[0m \u001b[0mcurrent_sub_decisions\u001b[0m\u001b[0;34m\u001b[0m\u001b[0;34m\u001b[0m\u001b[0m\n\u001b[1;32m     63\u001b[0m         \u001b[0mnext_week_captains\u001b[0m \u001b[0;34m=\u001b[0m \u001b[0mcurrent_captain_decisions\u001b[0m\u001b[0;34m\u001b[0m\u001b[0;34m\u001b[0m\u001b[0m\n\u001b[0;32m---> 64\u001b[0;31m         \u001b[0mself\u001b[0m\u001b[0;34m.\u001b[0m\u001b[0mapply_formation_constraints\u001b[0m\u001b[0;34m(\u001b[0m\u001b[0mmodel\u001b[0m\u001b[0;34m,\u001b[0m \u001b[0mstarters\u001b[0m\u001b[0;34m=\u001b[0m\u001b[0mnext_week_team\u001b[0m\u001b[0;34m,\u001b[0m \u001b[0msubs\u001b[0m\u001b[0;34m=\u001b[0m\u001b[0mnext_week_subs\u001b[0m\u001b[0;34m,\u001b[0m \u001b[0mcaptains\u001b[0m\u001b[0;34m=\u001b[0m\u001b[0mnext_week_captains\u001b[0m\u001b[0;34m)\u001b[0m\u001b[0;34m\u001b[0m\u001b[0;34m\u001b[0m\u001b[0m\n\u001b[0m\u001b[1;32m     65\u001b[0m \u001b[0;34m\u001b[0m\u001b[0m\n\u001b[1;32m     66\u001b[0m         \u001b[0;31m# objective function:\u001b[0m\u001b[0;34m\u001b[0m\u001b[0;34m\u001b[0m\u001b[0;34m\u001b[0m\u001b[0m\n",
      "\u001b[0;32m~/forecasting-fantasy-football/fpl_opt/models.py\u001b[0m in \u001b[0;36mapply_formation_constraints\u001b[0;34m(self, model, starters, subs, captains)\u001b[0m\n\u001b[1;32m     79\u001b[0m         \u001b[0;32mfor\u001b[0m \u001b[0mposition\u001b[0m\u001b[0;34m,\u001b[0m \u001b[0mdata\u001b[0m \u001b[0;32min\u001b[0m \u001b[0mposition_data\u001b[0m\u001b[0;34m.\u001b[0m\u001b[0mitems\u001b[0m\u001b[0;34m(\u001b[0m\u001b[0;34m)\u001b[0m\u001b[0;34m:\u001b[0m\u001b[0;34m\u001b[0m\u001b[0;34m\u001b[0m\u001b[0m\n\u001b[1;32m     80\u001b[0m             \u001b[0;31m# formation constraints\u001b[0m\u001b[0;34m\u001b[0m\u001b[0;34m\u001b[0m\u001b[0;34m\u001b[0m\u001b[0m\n\u001b[0;32m---> 81\u001b[0;31m             \u001b[0mmodel\u001b[0m \u001b[0;34m+=\u001b[0m \u001b[0msum\u001b[0m\u001b[0;34m(\u001b[0m\u001b[0mstarter\u001b[0m \u001b[0;32mfor\u001b[0m \u001b[0mstarter\u001b[0m\u001b[0;34m,\u001b[0m \u001b[0mposition\u001b[0m \u001b[0;32min\u001b[0m \u001b[0mzip\u001b[0m\u001b[0;34m(\u001b[0m\u001b[0mstarters\u001b[0m\u001b[0;34m,\u001b[0m \u001b[0mself\u001b[0m\u001b[0;34m.\u001b[0m\u001b[0mpositions\u001b[0m\u001b[0;34m)\u001b[0m \u001b[0;32mif\u001b[0m \u001b[0mposition\u001b[0m \u001b[0;34m==\u001b[0m \u001b[0mdata\u001b[0m\u001b[0;34m[\u001b[0m\u001b[0;34m\"position_id\"\u001b[0m\u001b[0;34m]\u001b[0m\u001b[0;34m)\u001b[0m \u001b[0;34m>=\u001b[0m \u001b[0mdata\u001b[0m\u001b[0;34m[\u001b[0m\u001b[0;34m\"min_starters\"\u001b[0m\u001b[0;34m]\u001b[0m\u001b[0;34m\u001b[0m\u001b[0;34m\u001b[0m\u001b[0m\n\u001b[0m\u001b[1;32m     82\u001b[0m             \u001b[0mmodel\u001b[0m \u001b[0;34m+=\u001b[0m \u001b[0msum\u001b[0m\u001b[0;34m(\u001b[0m\u001b[0mstarter\u001b[0m \u001b[0;32mfor\u001b[0m \u001b[0mstarter\u001b[0m\u001b[0;34m,\u001b[0m \u001b[0mposition\u001b[0m \u001b[0;32min\u001b[0m \u001b[0mzip\u001b[0m\u001b[0;34m(\u001b[0m\u001b[0mstarters\u001b[0m\u001b[0;34m,\u001b[0m \u001b[0mself\u001b[0m\u001b[0;34m.\u001b[0m\u001b[0mpositions\u001b[0m\u001b[0;34m)\u001b[0m \u001b[0;32mif\u001b[0m \u001b[0mposition\u001b[0m \u001b[0;34m==\u001b[0m \u001b[0mdata\u001b[0m\u001b[0;34m[\u001b[0m\u001b[0;34m\"position_id\"\u001b[0m\u001b[0;34m]\u001b[0m\u001b[0;34m)\u001b[0m \u001b[0;34m<=\u001b[0m \u001b[0mdata\u001b[0m\u001b[0;34m[\u001b[0m\u001b[0;34m\"max_starters\"\u001b[0m\u001b[0;34m]\u001b[0m\u001b[0;34m\u001b[0m\u001b[0;34m\u001b[0m\u001b[0m\n\u001b[1;32m     83\u001b[0m             \u001b[0mmodel\u001b[0m \u001b[0;34m+=\u001b[0m \u001b[0msum\u001b[0m\u001b[0;34m(\u001b[0m\u001b[0mselected\u001b[0m \u001b[0;32mfor\u001b[0m \u001b[0mselected\u001b[0m\u001b[0;34m,\u001b[0m \u001b[0mposition\u001b[0m \u001b[0;32min\u001b[0m \u001b[0mzip\u001b[0m\u001b[0;34m(\u001b[0m\u001b[0mall_selected\u001b[0m\u001b[0;34m,\u001b[0m \u001b[0mself\u001b[0m\u001b[0;34m.\u001b[0m\u001b[0mpositions\u001b[0m\u001b[0;34m)\u001b[0m \u001b[0;32mif\u001b[0m \u001b[0mposition\u001b[0m \u001b[0;34m==\u001b[0m \u001b[0mdata\u001b[0m\u001b[0;34m[\u001b[0m\u001b[0;34m\"position_id\"\u001b[0m\u001b[0;34m]\u001b[0m\u001b[0;34m)\u001b[0m \u001b[0;34m==\u001b[0m \u001b[0mdata\u001b[0m\u001b[0;34m[\u001b[0m\u001b[0;34m\"num_total\"\u001b[0m\u001b[0;34m]\u001b[0m\u001b[0;34m\u001b[0m\u001b[0;34m\u001b[0m\u001b[0m\n",
      "\u001b[0;31mKeyError\u001b[0m: 'min_starters'"
     ]
    }
   ],
   "source": [
    "opt.solve(player_indices, sub_indices, captain_indices, budget_now=0, sub_factor=0.1)"
   ]
  },
  {
   "cell_type": "code",
   "execution_count": null,
   "metadata": {},
   "outputs": [],
   "source": []
  }
 ],
 "metadata": {
  "kernelspec": {
   "display_name": "Python 3",
   "language": "python",
   "name": "python3"
  },
  "language_info": {
   "codemirror_mode": {
    "name": "ipython",
    "version": 3
   },
   "file_extension": ".py",
   "mimetype": "text/x-python",
   "name": "python",
   "nbconvert_exporter": "python",
   "pygments_lexer": "ipython3",
   "version": "3.6.8"
  }
 },
 "nbformat": 4,
 "nbformat_minor": 2
}
