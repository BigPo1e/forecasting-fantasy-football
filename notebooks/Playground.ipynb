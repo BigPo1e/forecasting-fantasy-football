{
 "cells": [
  {
   "cell_type": "code",
   "execution_count": 1,
   "metadata": {},
   "outputs": [],
   "source": [
    "import sys\n",
    "sys.path.append(\"../\")"
   ]
  },
  {
   "cell_type": "code",
   "execution_count": 2,
   "metadata": {},
   "outputs": [],
   "source": [
    "import pandas as pd\n",
    "df = pd.read_csv(\n",
    "    \"https://raw.githubusercontent.com/vaastav/Fantasy-Premier-League/master/data/2019-20/players_raw.csv\"\n",
    ")\n",
    "df2 = pd.read_csv(\n",
    "    \"https://raw.githubusercontent.com/vaastav/Fantasy-Premier-League/f0cd9a537e4daff00a9a8b0d8019bc4e28da94d3/data/2019-20/players_raw.csv\"\n",
    ")\n",
    "df = pd.merge(df[[\"first_name\", \"second_name\", \"total_points\", \"team_code\", \"element_type\", \"now_cost\", \"id\"]],\n",
    "              df2[[\"id\", \"total_points\"]],\n",
    "              on=\"id\", suffixes=[\"\", \"_last_season\"])\n",
    "df.head()\n",
    "\n",
    "old_expected_scores = df[\"total_points_last_season\"] / 38\n",
    "new_expected_scores = (0.9*old_expected_scores + df[\"total_points\"]*0.1).fillna(0)  # weighted average points from last season and points last week\n",
    "prices = df[\"now_cost\"] / 10\n",
    "positions = df[\"element_type\"]\n",
    "clubs = df[\"team_code\"]\n",
    "# so we can read the results\n",
    "names = df[\"first_name\"] + \" \" + df[\"second_name\"]\n",
    "# retrieve the team I picked last week"
   ]
  },
  {
   "cell_type": "code",
   "execution_count": 3,
   "metadata": {},
   "outputs": [],
   "source": [
    "from fpl_opt.transfers import TransferOptimiser2\n",
    "from fpl_opt.selection import select_team"
   ]
  },
  {
   "cell_type": "code",
   "execution_count": 4,
   "metadata": {},
   "outputs": [],
   "source": [
    "opt = TransferOptimiser2(new_expected_scores, prices, prices, positions, clubs)"
   ]
  },
  {
   "cell_type": "code",
   "execution_count": 5,
   "metadata": {},
   "outputs": [
    {
     "name": "stdout",
     "output_type": "stream",
     "text": [
      "Total expected score = 62.73684210526316\n",
      "Edward Nketiah\n",
      "David Luiz Moreira Marinho\n",
      "Ryan Fraser\n",
      "N'Golo Kanté\n",
      "Luka Milivojevic\n",
      "Lucas Digne\n",
      "Gylfi Sigurdsson\n",
      "Andrew Robertson\n",
      "Virgil van Dijk\n",
      "Mohamed Salah\n",
      "Aymeric Laporte\n",
      "Ederson Santana de Moraes\n",
      "Shane Long\n",
      "Lukasz Fabianski\n",
      "Raúl Jiménez\n"
     ]
    }
   ],
   "source": [
    "decisions, captain_decisions, sub_decisions = select_team(old_expected_scores.values, prices.values, positions.values, clubs.values)\n",
    "player_indices = []\n",
    "for i in range(len(decisions)):\n",
    "    if decisions[i].value() == 1 or sub_decisions[i].value() == 1:\n",
    "        print(names[i])\n",
    "        player_indices.append(i)"
   ]
  },
  {
   "cell_type": "code",
   "execution_count": 10,
   "metadata": {},
   "outputs": [
    {
     "name": "stdout",
     "output_type": "stream",
     "text": [
      "2.13 s ± 42 ms per loop (mean ± std. dev. of 7 runs, 1 loop each)\n"
     ]
    }
   ],
   "source": [
    "%%timeit\n",
    "transfer_in, transfer_out, starters, subs, captains = opt.solve(player_indices, budget_now=0, sub_factor=0.1)"
   ]
  },
  {
   "cell_type": "code",
   "execution_count": 7,
   "metadata": {},
   "outputs": [
    {
     "name": "stdout",
     "output_type": "stream",
     "text": [
      "Transferred out: David Luiz Moreira Marinho 6.0 3.8842105263157896\n",
      "Transferred in: Ricardo Domingos Barbosa Pereira 6.0 4.3578947368421055\n"
     ]
    }
   ],
   "source": [
    "for i in range(opt.num_players):\n",
    "    if transfer_in[i].value() == 1:\n",
    "        print(\"Transferred in: {} {} {}\".format(names[i], prices[i], new_expected_scores[i]))\n",
    "    if transfer_out[i].value() == 1:\n",
    "        print(\"Transferred out: {} {} {}\".format(names[i], prices[i], new_expected_scores[i]))"
   ]
  },
  {
   "cell_type": "code",
   "execution_count": 8,
   "metadata": {},
   "outputs": [
    {
     "name": "stdout",
     "output_type": "stream",
     "text": [
      "Ryan Fraser 4.386842105263158\n",
      "Luka Milivojevic 4.131578947368421\n",
      "Lucas Digne 4.342105263157896\n",
      "Gylfi Sigurdsson 4.610526315789474\n",
      "Ricardo Domingos Barbosa Pereira 4.3578947368421055\n",
      "Andrew Robertson 5.244736842105263\n",
      "Virgil van Dijk 5.726315789473684\n",
      "Mohamed Salah 7.33421052631579\n",
      "Aymeric Laporte 4.792105263157895\n",
      "Ederson Santana de Moraes 4.702631578947369\n",
      "Raúl Jiménez 4.486842105263158\n"
     ]
    }
   ],
   "source": [
    "for i in range(opt.num_players):\n",
    "    if starters[i].value() == 1:\n",
    "        print(\"{} {}\".format(names[i], new_expected_scores[i]))"
   ]
  },
  {
   "cell_type": "code",
   "execution_count": 9,
   "metadata": {},
   "outputs": [
    {
     "name": "stdout",
     "output_type": "stream",
     "text": [
      "Edward Nketiah 0.23684210526315788\n",
      "N'Golo Kanté 2.7473684210526317\n",
      "Shane Long 1.5631578947368423\n",
      "Lukasz Fabianski 3.486842105263158\n"
     ]
    }
   ],
   "source": [
    "for i in range(opt.num_players):\n",
    "    if subs[i].value() == 1:\n",
    "        print(\"{} {}\".format(names[i], new_expected_scores[i]))"
   ]
  },
  {
   "cell_type": "code",
   "execution_count": null,
   "metadata": {},
   "outputs": [],
   "source": []
  }
 ],
 "metadata": {
  "kernelspec": {
   "display_name": "Python 3",
   "language": "python",
   "name": "python3"
  },
  "language_info": {
   "codemirror_mode": {
    "name": "ipython",
    "version": 3
   },
   "file_extension": ".py",
   "mimetype": "text/x-python",
   "name": "python",
   "nbconvert_exporter": "python",
   "pygments_lexer": "ipython3",
   "version": "3.6.8"
  }
 },
 "nbformat": 4,
 "nbformat_minor": 2
}
